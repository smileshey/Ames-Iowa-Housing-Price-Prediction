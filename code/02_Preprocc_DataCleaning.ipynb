{
 "cells": [
  {
   "cell_type": "markdown",
   "metadata": {},
   "source": [
    "# Cleaning & Preproccessing\n",
    "\n",
    "This notebook is dedicated to the Cleaning & Preprocessing of the Ames, Iowa Dataset."
   ]
  },
  {
   "cell_type": "markdown",
   "metadata": {},
   "source": [
    " ## Imports"
   ]
  },
  {
   "cell_type": "code",
   "execution_count": 1,
   "metadata": {},
   "outputs": [],
   "source": [
    "# Library imports\n",
    "import pandas as pd\n",
    "import numpy as np\n",
    "import matplotlib.pyplot as plt\n",
    "import seaborn as sns\n",
    "import pickle"
   ]
  },
  {
   "cell_type": "code",
   "execution_count": 1,
   "metadata": {},
   "outputs": [
    {
     "ename": "NameError",
     "evalue": "name 'pickle' is not defined",
     "output_type": "error",
     "traceback": [
      "\u001b[0;31m---------------------------------------------------------------------------\u001b[0m",
      "\u001b[0;31mNameError\u001b[0m                                 Traceback (most recent call last)",
      "Cell \u001b[0;32mIn[1], line 3\u001b[0m\n\u001b[1;32m      1\u001b[0m \u001b[38;5;66;03m#data imports\u001b[39;00m\n\u001b[1;32m      2\u001b[0m \u001b[38;5;28;01mwith\u001b[39;00m \u001b[38;5;28mopen\u001b[39m(\u001b[38;5;124m'\u001b[39m\u001b[38;5;124mpickles/df.pkl\u001b[39m\u001b[38;5;124m'\u001b[39m, \u001b[38;5;124m'\u001b[39m\u001b[38;5;124mrb\u001b[39m\u001b[38;5;124m'\u001b[39m) \u001b[38;5;28;01mas\u001b[39;00m f:\n\u001b[0;32m----> 3\u001b[0m     df \u001b[38;5;241m=\u001b[39m \u001b[43mpickle\u001b[49m\u001b[38;5;241m.\u001b[39mload(f)\n\u001b[1;32m      5\u001b[0m \u001b[38;5;28;01mwith\u001b[39;00m \u001b[38;5;28mopen\u001b[39m(\u001b[38;5;124m'\u001b[39m\u001b[38;5;124mpickles/df_test.pkl\u001b[39m\u001b[38;5;124m'\u001b[39m, \u001b[38;5;124m'\u001b[39m\u001b[38;5;124mrb\u001b[39m\u001b[38;5;124m'\u001b[39m) \u001b[38;5;28;01mas\u001b[39;00m f:\n\u001b[1;32m      6\u001b[0m     df_test \u001b[38;5;241m=\u001b[39m pickle\u001b[38;5;241m.\u001b[39mload(f)\n",
      "\u001b[0;31mNameError\u001b[0m: name 'pickle' is not defined"
     ]
    }
   ],
   "source": [
    "#data imports\n",
    "with open('pickles/df.pkl', 'rb') as f:\n",
    "    df = pickle.load(f)\n",
    "    \n",
    "with open('pickles/df_test.pkl', 'rb') as f:\n",
    "    df_test = pickle.load(f)"
   ]
  },
  {
   "cell_type": "code",
   "execution_count": 3,
   "metadata": {},
   "outputs": [
    {
     "ename": "FileNotFoundError",
     "evalue": "[Errno 2] No such file or directory: 'corr_list.pkl'",
     "output_type": "error",
     "traceback": [
      "\u001b[0;31m---------------------------------------------------------------------------\u001b[0m",
      "\u001b[0;31mFileNotFoundError\u001b[0m                         Traceback (most recent call last)",
      "Cell \u001b[0;32mIn[3], line 2\u001b[0m\n\u001b[1;32m      1\u001b[0m \u001b[38;5;66;03m# variable imports\u001b[39;00m\n\u001b[0;32m----> 2\u001b[0m \u001b[38;5;28;01mwith\u001b[39;00m \u001b[38;5;28;43mopen\u001b[39;49m\u001b[43m(\u001b[49m\u001b[38;5;124;43m'\u001b[39;49m\u001b[38;5;124;43mcorr_list.pkl\u001b[39;49m\u001b[38;5;124;43m'\u001b[39;49m\u001b[43m,\u001b[49m\u001b[43m \u001b[49m\u001b[38;5;124;43m'\u001b[39;49m\u001b[38;5;124;43mrb\u001b[39;49m\u001b[38;5;124;43m'\u001b[39;49m\u001b[43m)\u001b[49m \u001b[38;5;28;01mas\u001b[39;00m f:\n\u001b[1;32m      3\u001b[0m     corr_list \u001b[38;5;241m=\u001b[39m pickle\u001b[38;5;241m.\u001b[39mload(f)\n",
      "File \u001b[0;32m~/opt/anaconda3/lib/python3.8/site-packages/IPython/core/interactiveshell.py:282\u001b[0m, in \u001b[0;36m_modified_open\u001b[0;34m(file, *args, **kwargs)\u001b[0m\n\u001b[1;32m    275\u001b[0m \u001b[38;5;28;01mif\u001b[39;00m file \u001b[38;5;129;01min\u001b[39;00m {\u001b[38;5;241m0\u001b[39m, \u001b[38;5;241m1\u001b[39m, \u001b[38;5;241m2\u001b[39m}:\n\u001b[1;32m    276\u001b[0m     \u001b[38;5;28;01mraise\u001b[39;00m \u001b[38;5;167;01mValueError\u001b[39;00m(\n\u001b[1;32m    277\u001b[0m         \u001b[38;5;124mf\u001b[39m\u001b[38;5;124m\"\u001b[39m\u001b[38;5;124mIPython won\u001b[39m\u001b[38;5;124m'\u001b[39m\u001b[38;5;124mt let you open fd=\u001b[39m\u001b[38;5;132;01m{\u001b[39;00mfile\u001b[38;5;132;01m}\u001b[39;00m\u001b[38;5;124m by default \u001b[39m\u001b[38;5;124m\"\u001b[39m\n\u001b[1;32m    278\u001b[0m         \u001b[38;5;124m\"\u001b[39m\u001b[38;5;124mas it is likely to crash IPython. If you know what you are doing, \u001b[39m\u001b[38;5;124m\"\u001b[39m\n\u001b[1;32m    279\u001b[0m         \u001b[38;5;124m\"\u001b[39m\u001b[38;5;124myou can use builtins\u001b[39m\u001b[38;5;124m'\u001b[39m\u001b[38;5;124m open.\u001b[39m\u001b[38;5;124m\"\u001b[39m\n\u001b[1;32m    280\u001b[0m     )\n\u001b[0;32m--> 282\u001b[0m \u001b[38;5;28;01mreturn\u001b[39;00m \u001b[43mio_open\u001b[49m\u001b[43m(\u001b[49m\u001b[43mfile\u001b[49m\u001b[43m,\u001b[49m\u001b[43m \u001b[49m\u001b[38;5;241;43m*\u001b[39;49m\u001b[43margs\u001b[49m\u001b[43m,\u001b[49m\u001b[43m \u001b[49m\u001b[38;5;241;43m*\u001b[39;49m\u001b[38;5;241;43m*\u001b[39;49m\u001b[43mkwargs\u001b[49m\u001b[43m)\u001b[49m\n",
      "\u001b[0;31mFileNotFoundError\u001b[0m: [Errno 2] No such file or directory: 'corr_list.pkl'"
     ]
    }
   ],
   "source": [
    "# variable imports\n",
    "with open('corr_list.pkl', 'rb') as f:\n",
    "    corr_list = pickle.load(f)"
   ]
  },
  {
   "cell_type": "markdown",
   "metadata": {},
   "source": [
    "### Cleaning\n",
    "\n",
    "In the previous notebook, I defined a list of important features that I will incorporate into my initial iteration of my model. I will focus on cleaning those features, as well as several other interesting features, in this section\n",
    "\n",
    "Those features are as follows:\n",
    "\n",
    "* overall qual\n",
    "* gr liv area\n",
    "* garage area\n",
    "* garage cars\n",
    "* total bsmt sf\n",
    "* 1st flr sf\n",
    "* year built\n",
    "* year remod/add"
   ]
  },
  {
   "cell_type": "markdown",
   "metadata": {},
   "source": [
    "#### Overall Qual (cleaning)\n",
    "\n",
    "From the data dictionary: Overall Qual (Ordinal) rates the overall material and finish of the house\n",
    "\n",
    "       10\tVery Excellent\n",
    "       ...\n",
    "       5\tAverage\n",
    "       ...\n",
    "       1\tVery Poor\n",
    "\n",
    "There are no missing values in the feature Overall Qual. Of the 2051 values in the feature, 5 are rated a 1. This is an outlier, but the outlier is natural and therefore I will leave it in the data.\n"
   ]
  },
  {
   "cell_type": "code",
   "execution_count": null,
   "metadata": {},
   "outputs": [],
   "source": [
    "# checking for null values (train)\n",
    "df['overall qual'].isna().sum()\n",
    "df['overall qual'].shape\n",
    "df_test.shape"
   ]
  },
  {
   "cell_type": "code",
   "execution_count": null,
   "metadata": {},
   "outputs": [],
   "source": [
    "sns.boxplot(x= df['overall qual'], color ='cornflowerblue' );"
   ]
  },
  {
   "cell_type": "code",
   "execution_count": null,
   "metadata": {},
   "outputs": [],
   "source": [
    "# checking for null values (test)\n",
    "df_test['overall qual'].isna().sum()\n",
    "df_test['overall qual'].sort_values(ascending = False)"
   ]
  },
  {
   "cell_type": "markdown",
   "metadata": {},
   "source": [
    "#### Gr liv area (cleaning)\n",
    "\n",
    "Gr Liv Area represents the above grade living area in square feet. It is presumed that this feature would exclude basement square footage.\n",
    "\n",
    "The feature has no missing values. There are many outliers which can be seen in the boxplot below. I will revisit this  section after generating the model to determine if these outlier are to be included in the model."
   ]
  },
  {
   "cell_type": "code",
   "execution_count": null,
   "metadata": {},
   "outputs": [],
   "source": [
    "# Checking for missing values (train)\n",
    "df['gr liv area'].isna().sum()"
   ]
  },
  {
   "cell_type": "code",
   "execution_count": null,
   "metadata": {},
   "outputs": [],
   "source": [
    "# Checking for missing values (test)\n",
    "df_test['gr liv area'].isna().sum()"
   ]
  },
  {
   "cell_type": "code",
   "execution_count": null,
   "metadata": {},
   "outputs": [],
   "source": [
    "# checking for outliers (train)\n",
    "sns.boxplot(x = df['gr liv area'],color = 'cornflowerblue');"
   ]
  },
  {
   "cell_type": "code",
   "execution_count": null,
   "metadata": {},
   "outputs": [],
   "source": [
    "# checking for outliers (test)\n",
    "sns.boxplot(x = df_test['gr liv area'],color = 'cornflowerblue');"
   ]
  },
  {
   "cell_type": "markdown",
   "metadata": {},
   "source": [
    "#### Garage Area\n",
    "\n",
    "Gr Liv Area represents the size of garage in square feet.\n",
    "\n",
    "The feature has a missing value, which I removed below. There are many outliers which can be seen in the boxplot below. I will revisit this  section after generating the model to determine if these outlier are to be included in the model."
   ]
  },
  {
   "cell_type": "code",
   "execution_count": null,
   "metadata": {},
   "outputs": [],
   "source": [
    "# replacing NaN values (train)\n",
    "df['garage area'] = df['garage area'].fillna(0)\n",
    "df_test.shape"
   ]
  },
  {
   "cell_type": "code",
   "execution_count": null,
   "metadata": {},
   "outputs": [],
   "source": [
    "# replacing NaN values (test)\n",
    "df_test['garage area'] = df_test['garage area'].fillna(0)"
   ]
  },
  {
   "cell_type": "code",
   "execution_count": null,
   "metadata": {},
   "outputs": [],
   "source": [
    "df['garage area'].sort_values(ascending = False)"
   ]
  },
  {
   "cell_type": "code",
   "execution_count": null,
   "metadata": {},
   "outputs": [],
   "source": [
    "df_test['garage area'].sort_values(ascending = False)"
   ]
  },
  {
   "cell_type": "code",
   "execution_count": null,
   "metadata": {},
   "outputs": [],
   "source": [
    "plt.hist(df['garage area'],bins =20);\n"
   ]
  },
  {
   "cell_type": "markdown",
   "metadata": {},
   "source": [
    "#### Garage cars (cleaning)\n",
    "\n",
    "The garage cars feature describes the number of cars that can fit in the garage. \n",
    "\n",
    "There are 2 outliers, however they are within reason and appear to be natural outliers. There are no missing values and the data is ready for modelling."
   ]
  },
  {
   "cell_type": "code",
   "execution_count": null,
   "metadata": {},
   "outputs": [],
   "source": [
    "# is na (train)\n",
    "df['garage cars'].isna().sum()\n",
    "df_test.shape"
   ]
  },
  {
   "cell_type": "code",
   "execution_count": null,
   "metadata": {},
   "outputs": [],
   "source": [
    "#is na (test)\n",
    "df_test['garage cars'].isna().sum()"
   ]
  },
  {
   "cell_type": "code",
   "execution_count": null,
   "metadata": {},
   "outputs": [],
   "source": [
    "# checking outliers (test)\n",
    "df_test['garage cars'].sort_values(ascending = False)"
   ]
  },
  {
   "cell_type": "code",
   "execution_count": null,
   "metadata": {},
   "outputs": [],
   "source": [
    "sns.boxplot(x =df['garage cars'],color = 'cornflowerblue');\n"
   ]
  },
  {
   "cell_type": "markdown",
   "metadata": {},
   "source": [
    "#### Total Basement Sq.ft (cleaning)\n",
    "\n",
    "The 'total bsmt sf' feature represents the square footage of the basement for the property.\n",
    "\n",
    "There is one missing value in the data, which has been removed. There are several outliers, however more analysis will need to be completed to determine if the outliers are significant and not natural outliers."
   ]
  },
  {
   "cell_type": "code",
   "execution_count": null,
   "metadata": {},
   "outputs": [],
   "source": [
    "# identifying missing values \n",
    "df['total bsmt sf'].isna().sum()"
   ]
  },
  {
   "cell_type": "code",
   "execution_count": null,
   "metadata": {},
   "outputs": [],
   "source": [
    "# removing missing values (train)\n",
    "df['total bsmt sf'].sort_values(ascending= False)\n",
    "df=df[df['total bsmt sf'].notna()]\n",
    "df['total bsmt sf'].isna().sum()"
   ]
  },
  {
   "cell_type": "code",
   "execution_count": null,
   "metadata": {},
   "outputs": [],
   "source": [
    "# removing missing values (test)\n",
    "df_test['total bsmt sf'].sort_values(ascending= False)\n",
    "df_test=df_test[df_test['total bsmt sf'].notna()]\n",
    "df_test['total bsmt sf'].isna().sum()\n"
   ]
  },
  {
   "cell_type": "code",
   "execution_count": null,
   "metadata": {},
   "outputs": [],
   "source": [
    "#checking for outliers (train)\n",
    "sns.boxplot(x=df['total bsmt sf'], color = 'cornflowerblue' );\n",
    "df_test.shape"
   ]
  },
  {
   "cell_type": "code",
   "execution_count": null,
   "metadata": {},
   "outputs": [],
   "source": [
    "# Checking if left side outlier is negative or 0\n",
    "df['total bsmt sf'].sort_values(ascending= True)"
   ]
  },
  {
   "cell_type": "code",
   "execution_count": null,
   "metadata": {},
   "outputs": [],
   "source": [
    "# Checking for outliers (test)\n",
    "df_test['total bsmt sf'].sort_values(ascending= True)\n",
    "df_test.shape\n",
    "\n"
   ]
  },
  {
   "cell_type": "markdown",
   "metadata": {},
   "source": [
    "#### 1st Floor Sq.ft (cleaning)\n",
    "\n",
    "This feature describes the square footage of the 1st floor. There are no missing values in the data, however there are many outliers. All of the outliers are realistic and will be left in the data."
   ]
  },
  {
   "cell_type": "code",
   "execution_count": null,
   "metadata": {},
   "outputs": [],
   "source": [
    "#checking for missing values\n",
    "df['1st flr sf'].isna().sum()"
   ]
  },
  {
   "cell_type": "code",
   "execution_count": null,
   "metadata": {},
   "outputs": [],
   "source": [
    "#checking for outliers (train)\n",
    "sns.boxplot(x=df['1st flr sf'],color = 'cornflowerblue');"
   ]
  },
  {
   "cell_type": "code",
   "execution_count": null,
   "metadata": {},
   "outputs": [],
   "source": [
    "# checking for outliers (test)\n",
    "df_test['total bsmt sf'].sort_values(ascending= True)\n",
    "df_test.shape"
   ]
  },
  {
   "cell_type": "markdown",
   "metadata": {},
   "source": [
    "#### Year Built (cleaning)\n",
    "\n",
    "This feature describes the year the house was built.\n",
    "\n",
    "There are no missing values in the feature. Many of the homes were built in pre-1900, but that is within reason for the area. Ames, Iowa was founded in 1864 and therefore these outlier are natural outliers. The newest home was built in 2010, which is within the parameters of the dataset as outlined in the data dictionary."
   ]
  },
  {
   "cell_type": "code",
   "execution_count": null,
   "metadata": {},
   "outputs": [],
   "source": [
    "#Checking for missing values (train)\n",
    "df['year built'].isna().sum()"
   ]
  },
  {
   "cell_type": "code",
   "execution_count": null,
   "metadata": {},
   "outputs": [],
   "source": [
    "#checking for outliers (train)\n",
    "df['year built'].sort_values(ascending = False)"
   ]
  },
  {
   "cell_type": "code",
   "execution_count": null,
   "metadata": {},
   "outputs": [],
   "source": [
    "# Checking for outliers (train)\n",
    "sns.boxplot(x = df['year built'], color = 'cornflowerblue');"
   ]
  },
  {
   "cell_type": "code",
   "execution_count": null,
   "metadata": {},
   "outputs": [],
   "source": [
    "# Checking for outliers (test)\n",
    "df_test['year built'].sort_values(ascending = False)\n"
   ]
  },
  {
   "cell_type": "markdown",
   "metadata": {},
   "source": [
    "#### Year Remodeled/Addition (cleaning)\n",
    "\n",
    "The 'year remod/add' feature describes the year the house was remodelled or when an addition to the existing structure was added. If the house has not had either a remodel or an addition, the date provided is the same as the construction date.\n",
    "\n",
    "The feature has no missing values. There are no outliers within the data. All dates provided are within the limits provided by the 'Year Built' feature, which implies that the remodel dates are realistic."
   ]
  },
  {
   "cell_type": "code",
   "execution_count": null,
   "metadata": {},
   "outputs": [],
   "source": [
    "# Checking for missing values (train)\n",
    "df['year remod/add'].isna().sum()"
   ]
  },
  {
   "cell_type": "code",
   "execution_count": null,
   "metadata": {},
   "outputs": [],
   "source": [
    "# Checking for missing values (test)\n",
    "df_test['year remod/add'].isna().sum()"
   ]
  },
  {
   "cell_type": "code",
   "execution_count": null,
   "metadata": {},
   "outputs": [],
   "source": [
    "# Checking for outliers (train)\n",
    "sns.boxplot(x=df['year remod/add'],color='cornflowerblue');\n",
    "df_test.shape"
   ]
  },
  {
   "cell_type": "code",
   "execution_count": null,
   "metadata": {},
   "outputs": [],
   "source": [
    "# Checking for outliers (test)\n",
    "df_test['year remod/add'].sort_values(ascending = False)"
   ]
  },
  {
   "cell_type": "markdown",
   "metadata": {},
   "source": [
    "#### Full Bath (cleaning)\n",
    "\n",
    "The 'full bath' feature describes the number of full bathrooms in the house. The feature has no missing values and there are no outliers within the data."
   ]
  },
  {
   "cell_type": "code",
   "execution_count": null,
   "metadata": {},
   "outputs": [],
   "source": [
    "# checking for null values (train)\n",
    "df['full bath'].isna().sum()\n",
    "\n",
    "# checking for null values (test)\n",
    "df['full bath'].isna().sum()"
   ]
  },
  {
   "cell_type": "code",
   "execution_count": null,
   "metadata": {},
   "outputs": [],
   "source": [
    "# looking for outliers (train)\n",
    "sns.boxplot(df['full bath'])\n",
    "df['full bath'].sort_values(ascending = False)"
   ]
  },
  {
   "cell_type": "code",
   "execution_count": null,
   "metadata": {},
   "outputs": [],
   "source": [
    "# looking for outliers (test)\n",
    "sns.boxplot(df_test['full bath'])\n",
    "df_test['full bath'].sort_values(ascending = False)\n",
    "df_test.shape"
   ]
  },
  {
   "cell_type": "markdown",
   "metadata": {},
   "source": [
    "#### Garage Year Built (cleaning)\n",
    "\n",
    "The 'garage yr blt' feature describes the year the garage addition was built or when an addition to the existing structure was added. If the house has not had either a remodel or an addition, the date assigned to the feature is 0.\n",
    "\n",
    "The feature has many missing values, as well as several outliers that would be outside what has been defined as the reasonable range. I have assigned NaN values in this column, as it is assumed that NaN values can be equated to a home not having a garage."
   ]
  },
  {
   "cell_type": "code",
   "execution_count": null,
   "metadata": {},
   "outputs": [],
   "source": [
    "df['garage yr blt'].isna().sum()\n",
    "df_test['garage yr blt'].isna().sum()"
   ]
  },
  {
   "cell_type": "code",
   "execution_count": null,
   "metadata": {},
   "outputs": [],
   "source": [
    "# looking for outliers (train)\n",
    "df['garage yr blt'].sort_values(ascending = False)"
   ]
  },
  {
   "cell_type": "code",
   "execution_count": null,
   "metadata": {},
   "outputs": [],
   "source": [
    "# looking for outliers (test)\n",
    "df_test['garage yr blt'].sort_values(ascending = False)"
   ]
  },
  {
   "cell_type": "code",
   "execution_count": null,
   "metadata": {},
   "outputs": [],
   "source": [
    "# Setting null values to 0(train)\n",
    "\n",
    "df['garage yr blt']=df['garage yr blt'].fillna(0)"
   ]
  },
  {
   "cell_type": "code",
   "execution_count": null,
   "metadata": {},
   "outputs": [],
   "source": [
    "# Setting null values to 0(train)\n",
    "df_test['garage yr blt']=df_test['garage yr blt'].fillna(0)\n",
    "df_test['garage yr blt'].sort_values(ascending = False)"
   ]
  },
  {
   "cell_type": "markdown",
   "metadata": {},
   "source": [
    "#### Year Remodeled/Addition (cleaning)\n",
    "\n",
    "The 'mas vnr area' feature describes masonry veneer area in square feet for the exterior of the house.\n",
    "\n",
    "The feature has several missing values, which are represented as NaN. It's assumed, with the help of the data dictionary, that NaN represents a home without masonry vaneer. Therefore, the NaN values will be assigned to 0.\n",
    "\n",
    "totrms abvgrd     0.503509"
   ]
  },
  {
   "cell_type": "code",
   "execution_count": null,
   "metadata": {},
   "outputs": [],
   "source": [
    "# checking for null values\n",
    "df['mas vnr area'].isna().sum()\n",
    "df_test.shape\n"
   ]
  },
  {
   "cell_type": "code",
   "execution_count": null,
   "metadata": {},
   "outputs": [],
   "source": [
    "# removing null values (train)\n",
    "df['mas vnr area']=df['mas vnr area'].fillna(0)"
   ]
  },
  {
   "cell_type": "code",
   "execution_count": null,
   "metadata": {},
   "outputs": [],
   "source": [
    "# removing null values (test)\n",
    "df_test['mas vnr area']=df_test['mas vnr area'].fillna(0)\n",
    "df_test['mas vnr area'].isna().sum()\n"
   ]
  },
  {
   "cell_type": "code",
   "execution_count": null,
   "metadata": {},
   "outputs": [],
   "source": [
    "# finding outliers (train)\n",
    "df['mas vnr area'].sort_values(ascending = False)"
   ]
  },
  {
   "cell_type": "code",
   "execution_count": null,
   "metadata": {},
   "outputs": [],
   "source": [
    "# finding outliers (test)\n",
    "df_test['mas vnr area'].sort_values(ascending = False)\n",
    "#df_test[df_test['mas vnr area'] == 0] = 1e-6\n",
    "\n",
    "df['year built']\n",
    "df['garage yr blt']\n"
   ]
  },
  {
   "cell_type": "markdown",
   "metadata": {},
   "source": [
    "### Other Interesting Features (Cleaning)"
   ]
  },
  {
   "cell_type": "markdown",
   "metadata": {},
   "source": [
    "#### Lot frontage (cleaning)\n",
    "Lot frontage represents the distance from the property line to the public easement and I'm assuming that a lot frontage = NaN means that the property doesn't have a front yard or an offset from the public easement. I'm setting NaN to zero to account for this, rather than remove the values."
   ]
  },
  {
   "cell_type": "code",
   "execution_count": null,
   "metadata": {},
   "outputs": [],
   "source": [
    "# Setting null values to 0 (train)\n",
    "df['lot frontage'] = df['lot frontage'].replace(np.nan,0)\n",
    "df.shape\n",
    "\n"
   ]
  },
  {
   "cell_type": "code",
   "execution_count": null,
   "metadata": {},
   "outputs": [],
   "source": [
    "# Setting null values to 0 (test)\n",
    "df_test['lot frontage'] = df_test['lot frontage'].replace(np.nan,0)\n",
    "df_test.shape"
   ]
  },
  {
   "cell_type": "code",
   "execution_count": null,
   "metadata": {},
   "outputs": [],
   "source": [
    "sns.boxplot(x = df['lot frontage'], color = 'cornflowerblue');\n",
    "df_test.shape"
   ]
  },
  {
   "cell_type": "markdown",
   "metadata": {},
   "source": [
    "As shown above in the boxplot, there's an outlier in the frontage data showing a single property with a very large lot frontage. I believe this outlier to be natural and therefore I am leaving it in the dataset. All other data points appear normal."
   ]
  },
  {
   "cell_type": "code",
   "execution_count": null,
   "metadata": {},
   "outputs": [],
   "source": [
    "with open('pickles/df.pkl', 'wb') as f:\n",
    "    pickle.dump(df, f)\n",
    "      \n",
    "with open('pickles/df_test.pkl', 'wb') as f:\n",
    "    pickle.dump(df_test, f)\n",
    "    "
   ]
  }
 ],
 "metadata": {
  "kernelspec": {
   "display_name": "Python 3 (ipykernel)",
   "language": "python",
   "name": "python3"
  },
  "language_info": {
   "codemirror_mode": {
    "name": "ipython",
    "version": 3
   },
   "file_extension": ".py",
   "mimetype": "text/x-python",
   "name": "python",
   "nbconvert_exporter": "python",
   "pygments_lexer": "ipython3",
   "version": "3.8.16"
  }
 },
 "nbformat": 4,
 "nbformat_minor": 5
}
