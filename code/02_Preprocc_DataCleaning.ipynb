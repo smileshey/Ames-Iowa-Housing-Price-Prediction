{
 "cells": [
  {
   "cell_type": "markdown",
   "id": "0e3ed27b",
   "metadata": {},
   "source": [
    "# Cleaning & Preproccessing\n",
    "\n",
    "This notebook is dedicated to the Cleaning & Preprocessing of the Ames, Iowa Dataset.\n",
    "\n",
    "Before we begin modelling the data, we'll use this notebook to ensure that the data entering our model is clear of any anomolies that would cause us issues later in the analysis."
   ]
  },
  {
   "cell_type": "markdown",
   "id": "4b002372",
   "metadata": {},
   "source": [
    " ## Imports"
   ]
  },
  {
   "cell_type": "code",
   "execution_count": 1,
   "id": "9d69ccf2",
   "metadata": {},
   "outputs": [],
   "source": [
    "# Library imports\n",
    "import pandas as pd\n",
    "import numpy as np\n",
    "import matplotlib.pyplot as plt\n",
    "import seaborn as sns\n",
    "import pickle"
   ]
  },
  {
   "cell_type": "code",
   "execution_count": 2,
   "id": "432f913b",
   "metadata": {},
   "outputs": [],
   "source": [
    "#data imports\n",
    "with open('pickles/df.pkl', 'rb') as f:\n",
    "    df = pickle.load(f)\n",
    "    \n",
    "with open('pickles/df_test.pkl', 'rb') as f:\n",
    "    df_test = pickle.load(f)"
   ]
  },
  {
   "cell_type": "markdown",
   "id": "31f13882",
   "metadata": {},
   "source": [
    "### Cleaning\n",
    "\n",
    "In the previous notebook, I defined a list of important features that I will incorporate into my initial iteration of my model. I will focus on cleaning those features, as well as several other interesting features, in this section\n",
    "\n",
    "Those features are as follows:\n",
    "\n",
    "* overall qual\n",
    "* gr liv area\n",
    "* garage area\n",
    "* garage cars\n",
    "* total bsmt sf\n",
    "* 1st flr sf\n",
    "* year built\n",
    "* year remod/add"
   ]
  },
  {
   "cell_type": "markdown",
   "id": "4bca3ded",
   "metadata": {},
   "source": [
    "#### Overall Qual (cleaning)\n",
    "\n",
    "From the data dictionary: Overall Qual (Ordinal) rates the overall material and finish of the house\n",
    "\n",
    "       10\tVery Excellent\n",
    "       ...\n",
    "       5\tAverage\n",
    "       ...\n",
    "       1\tVery Poor\n",
    "\n",
    "There are no missing values in the feature Overall Qual. Of the 2051 values in the feature, 5 are rated a 1. This is an outlier, but the outlier is natural and therefore I will leave it in the data.\n"
   ]
  },
  {
   "cell_type": "code",
   "execution_count": 3,
   "id": "051a7b07",
   "metadata": {},
   "outputs": [
    {
     "data": {
      "text/plain": [
       "(878, 80)"
      ]
     },
     "execution_count": 3,
     "metadata": {},
     "output_type": "execute_result"
    }
   ],
   "source": [
    "# checking for null values (train)\n",
    "df['overall qual'].isna().sum()\n",
    "df['overall qual'].shape\n",
    "df_test.shape"
   ]
  },
  {
   "cell_type": "code",
   "execution_count": 4,
   "id": "0c6e2986",
   "metadata": {},
   "outputs": [
    {
     "data": {
      "image/png": "[encoded data removed]",
      "text/plain": [
       "<Figure size 640x480 with 1 Axes>"
      ]
     },
     "metadata": {},
     "output_type": "display_data"
    }
   ],
   "source": [
    "sns.boxplot(x= df['overall qual'], color ='cornflowerblue' );"
   ]
  },
  {
   "cell_type": "code",
   "execution_count": 5,
   "id": "44895a00",
   "metadata": {},
   "outputs": [
    {
     "data": {
      "text/plain": [
       "425    10\n",
       "115    10\n",
       "163    10\n",
       "463    10\n",
       "120    10\n",
       "       ..\n",
       "399     3\n",
       "615     2\n",
       "529     2\n",
       "446     2\n",
       "514     2\n",
       "Name: overall qual, Length: 878, dtype: int64"
      ]
     },
     "execution_count": 5,
     "metadata": {},
     "output_type": "execute_result"
    }
   ],
   "source": [
    "# checking for null values (test)\n",
    "df_test['overall qual'].isna().sum()\n",
    "df_test['overall qual'].sort_values(ascending = False)"
   ]
  },
  {
   "cell_type": "markdown",
   "id": "c69daaed",
   "metadata": {},
   "source": [
    "#### Gr liv area (cleaning)\n",
    "\n",
    "Gr Liv Area represents the above grade living area in square feet. It is presumed that this feature would exclude basement square footage.\n",
    "\n",
    "The feature has no missing values. There are many outliers which can be seen in the boxplot below. I will revisit this  section after generating the model to determine if these outlier are to be included in the model."
   ]
  },
  {
   "cell_type": "code",
   "execution_count": 6,
   "id": "ee1c6401",
   "metadata": {},
   "outputs": [
    {
     "data": {
      "text/plain": [
       "0"
      ]
     },
     "execution_count": 6,
     "metadata": {},
     "output_type": "execute_result"
    }
   ],
   "source": [
    "# Checking for missing values (train)\n",
    "df['gr liv area'].isna().sum()"
   ]
  },
  {
   "cell_type": "code",
   "execution_count": 7,
   "id": "77630669",
   "metadata": {},
   "outputs": [
    {
     "data": {
      "text/plain": [
       "0"
      ]
     },
     "execution_count": 7,
     "metadata": {},
     "output_type": "execute_result"
    }
   ],
   "source": [
    "# Checking for missing values (test)\n",
    "df_test['gr liv area'].isna().sum()"
   ]
  },
  {
   "cell_type": "code",
   "execution_count": 8,
   "id": "7c862a48",
   "metadata": {},
   "outputs": [
    {
     "data": {
      "image/png": "[encoded data removed]",
      "text/plain": [
       "<Figure size 640x480 with 1 Axes>"
      ]
     },
     "metadata": {},
     "output_type": "display_data"
    }
   ],
   "source": [
    "# checking for outliers (train)\n",
    "sns.boxplot(x = df['gr liv area'],color = 'cornflowerblue');"
   ]
  },
  {
   "cell_type": "code",
   "execution_count": 9,
   "id": "7013e872",
   "metadata": {},
   "outputs": [
    {
     "data": {
      "image/png": "[encoded data removed]",
      "text/plain": [
       "<Figure size 640x480 with 1 Axes>"
      ]
     },
     "metadata": {},
     "output_type": "display_data"
    }
   ],
   "source": [
    "# checking for outliers (test)\n",
    "sns.boxplot(x = df_test['gr liv area'],color = 'cornflowerblue');"
   ]
  },
  {
   "cell_type": "markdown",
   "id": "a8d81d45",
   "metadata": {},
   "source": [
    "#### Garage Area\n",
    "\n",
    "Gr Liv Area represents the size of garage in square feet.\n",
    "\n",
    "The feature has a missing value, which I removed below. There are many outliers which can be seen in the boxplot below. I will revisit this  section after generating the model to determine if these outlier are to be included in the model."
   ]
  },
  {
   "cell_type": "code",
   "execution_count": 10,
   "id": "74e13c44",
   "metadata": {},
   "outputs": [
    {
     "data": {
      "text/plain": [
       "(878, 80)"
      ]
     },
     "execution_count": 10,
     "metadata": {},
     "output_type": "execute_result"
    }
   ],
   "source": [
    "# replacing NaN values (train)\n",
    "df['garage area'] = df['garage area'].fillna(0)\n",
    "df_test.shape"
   ]
  },
  {
   "cell_type": "code",
   "execution_count": 11,
   "id": "b7a628b9",
   "metadata": {},
   "outputs": [],
   "source": [
    "# replacing NaN values (test)\n",
    "df_test['garage area'] = df_test['garage area'].fillna(0)"
   ]
  },
  {
   "cell_type": "code",
   "execution_count": 12,
   "id": "ac036c55",
   "metadata": {},
   "outputs": [
    {
     "data": {
      "text/plain": [
       "960     1418.0\n",
       "337     1356.0\n",
       "1158    1348.0\n",
       "1293    1314.0\n",
       "1557    1231.0\n",
       "         ...  \n",
       "705        0.0\n",
       "264        0.0\n",
       "260        0.0\n",
       "1814       0.0\n",
       "457        0.0\n",
       "Name: garage area, Length: 2050, dtype: float64"
      ]
     },
     "execution_count": 12,
     "metadata": {},
     "output_type": "execute_result"
    }
   ],
   "source": [
    "df['garage area'].sort_values(ascending = False)"
   ]
  },
  {
   "cell_type": "code",
   "execution_count": 13,
   "id": "14256c67",
   "metadata": {},
   "outputs": [
    {
     "data": {
      "text/plain": [
       "580    1488\n",
       "85     1390\n",
       "399    1248\n",
       "422    1200\n",
       "238    1134\n",
       "       ... \n",
       "45        0\n",
       "566       0\n",
       "350       0\n",
       "629       0\n",
       "803       0\n",
       "Name: garage area, Length: 878, dtype: int64"
      ]
     },
     "execution_count": 13,
     "metadata": {},
     "output_type": "execute_result"
    }
   ],
   "source": [
    "df_test['garage area'].sort_values(ascending = False)"
   ]
  },
  {
   "cell_type": "code",
   "execution_count": 14,
   "id": "a4b1c334",
   "metadata": {},
   "outputs": [
    {
     "data": {
      "image/png": "[encoded data removed]",
      "text/plain": [
       "<Figure size 640x480 with 1 Axes>"
      ]
     },
     "metadata": {},
     "output_type": "display_data"
    }
   ],
   "source": [
    "plt.hist(df['garage area'],bins =20);\n"
   ]
  },
  {
   "cell_type": "markdown",
   "id": "d9590266",
   "metadata": {},
   "source": [
    "#### Garage cars (cleaning)\n",
    "\n",
    "The garage cars feature describes the number of cars that can fit in the garage. \n",
    "\n",
    "There are 2 outliers, however they are within reason and appear to be natural outliers. There are no missing values and the data is ready for modelling."
   ]
  },
  {
   "cell_type": "code",
   "execution_count": 15,
   "id": "359adaca",
   "metadata": {},
   "outputs": [
    {
     "data": {
      "text/plain": [
       "(878, 80)"
      ]
     },
     "execution_count": 15,
     "metadata": {},
     "output_type": "execute_result"
    }
   ],
   "source": [
    "# is na (train)\n",
    "df['garage cars'].isna().sum()\n",
    "df_test.shape"
   ]
  },
  {
   "cell_type": "code",
   "execution_count": 16,
   "id": "14208f2e",
   "metadata": {},
   "outputs": [
    {
     "data": {
      "text/plain": [
       "0"
      ]
     },
     "execution_count": 16,
     "metadata": {},
     "output_type": "execute_result"
    }
   ],
   "source": [
    "#is na (test)\n",
    "df_test['garage cars'].isna().sum()"
   ]
  },
  {
   "cell_type": "code",
   "execution_count": 17,
   "id": "501103fd",
   "metadata": {},
   "outputs": [
    {
     "data": {
      "text/plain": [
       "580    4\n",
       "32     4\n",
       "13     4\n",
       "683    3\n",
       "257    3\n",
       "      ..\n",
       "113    0\n",
       "109    0\n",
       "105    0\n",
       "536    0\n",
       "314    0\n",
       "Name: garage cars, Length: 878, dtype: int64"
      ]
     },
     "execution_count": 17,
     "metadata": {},
     "output_type": "execute_result"
    }
   ],
   "source": [
    "# checking outliers (test)\n",
    "df_test['garage cars'].sort_values(ascending = False)"
   ]
  },
  {
   "cell_type": "code",
   "execution_count": 18,
   "id": "0b67fb69",
   "metadata": {},
   "outputs": [
    {
     "data": {
      "image/png": "[encoded data removed]",
      "text/plain": [
       "<Figure size 640x480 with 1 Axes>"
      ]
     },
     "metadata": {},
     "output_type": "display_data"
    }
   ],
   "source": [
    "sns.boxplot(x =df['garage cars'],color = 'cornflowerblue');"
   ]
  },
  {
   "cell_type": "markdown",
   "id": "be29dcdd",
   "metadata": {},
   "source": [
    "#### Total Basement Sq.ft (cleaning)\n",
    "\n",
    "The 'total bsmt sf' feature represents the square footage of the basement for the property.\n",
    "\n",
    "There is one missing value in the data, which has been removed. There are several outliers, however more analysis will need to be completed to determine if the outliers are significant and not natural outliers."
   ]
  },
  {
   "cell_type": "code",
   "execution_count": 19,
   "id": "1f12ce93",
   "metadata": {},
   "outputs": [
    {
     "data": {
      "text/plain": [
       "0"
      ]
     },
     "execution_count": 19,
     "metadata": {},
     "output_type": "execute_result"
    }
   ],
   "source": [
    "# identifying missing values \n",
    "df['total bsmt sf'].isna().sum()"
   ]
  },
  {
   "cell_type": "code",
   "execution_count": 20,
   "id": "b8b8e527",
   "metadata": {},
   "outputs": [
    {
     "data": {
      "text/plain": [
       "0"
      ]
     },
     "execution_count": 20,
     "metadata": {},
     "output_type": "execute_result"
    }
   ],
   "source": [
    "# removing missing values (train)\n",
    "df['total bsmt sf'].sort_values(ascending= False)\n",
    "df=df[df['total bsmt sf'].notna()]\n",
    "df['total bsmt sf'].isna().sum()"
   ]
  },
  {
   "cell_type": "code",
   "execution_count": 21,
   "id": "9ba06000",
   "metadata": {},
   "outputs": [
    {
     "data": {
      "text/plain": [
       "0"
      ]
     },
     "execution_count": 21,
     "metadata": {},
     "output_type": "execute_result"
    }
   ],
   "source": [
    "# removing missing values (test)\n",
    "df_test['total bsmt sf'].sort_values(ascending= False)\n",
    "df_test=df_test[df_test['total bsmt sf'].notna()]\n",
    "df_test['total bsmt sf'].isna().sum()"
   ]
  },
  {
   "cell_type": "code",
   "execution_count": 22,
   "id": "b9ca3bc9",
   "metadata": {},
   "outputs": [
    {
     "data": {
      "text/plain": [
       "(878, 80)"
      ]
     },
     "execution_count": 22,
     "metadata": {},
     "output_type": "execute_result"
    },
    {
     "data": {
      "image/png": "[encoded data removed]",
      "text/plain": [
       "<Figure size 640x480 with 1 Axes>"
      ]
     },
     "metadata": {},
     "output_type": "display_data"
    }
   ],
   "source": [
    "#checking for outliers (train)\n",
    "sns.boxplot(x=df['total bsmt sf'], color = 'cornflowerblue' );\n",
    "df_test.shape"
   ]
  },
  {
   "cell_type": "code",
   "execution_count": 23,
   "id": "39c9a099",
   "metadata": {},
   "outputs": [
    {
     "data": {
      "text/plain": [
       "1022       0.0\n",
       "183        0.0\n",
       "1889       0.0\n",
       "1377       0.0\n",
       "737        0.0\n",
       "         ...  \n",
       "1164    3094.0\n",
       "328     3200.0\n",
       "1147    3206.0\n",
       "1885    5095.0\n",
       "960     6110.0\n",
       "Name: total bsmt sf, Length: 2050, dtype: float64"
      ]
     },
     "execution_count": 23,
     "metadata": {},
     "output_type": "execute_result"
    }
   ],
   "source": [
    "# Checking if left side outlier is negative or 0\n",
    "df['total bsmt sf'].sort_values(ascending= True)"
   ]
  },
  {
   "cell_type": "code",
   "execution_count": 24,
   "id": "3e0b942c",
   "metadata": {},
   "outputs": [
    {
     "data": {
      "text/plain": [
       "(878, 80)"
      ]
     },
     "execution_count": 24,
     "metadata": {},
     "output_type": "execute_result"
    }
   ],
   "source": [
    "# Checking for outliers (test)\n",
    "df_test['total bsmt sf'].sort_values(ascending= True)\n",
    "df_test.shape\n",
    "\n"
   ]
  },
  {
   "cell_type": "markdown",
   "id": "f810035c",
   "metadata": {},
   "source": [
    "#### 1st Floor Sq.ft (cleaning)\n",
    "\n",
    "This feature describes the square footage of the 1st floor. There are no missing values in the data, however there are many outliers. All of the outliers are realistic and will be left in the data."
   ]
  },
  {
   "cell_type": "code",
   "execution_count": 25,
   "id": "e0b8dfbc",
   "metadata": {},
   "outputs": [
    {
     "data": {
      "text/plain": [
       "0"
      ]
     },
     "execution_count": 25,
     "metadata": {},
     "output_type": "execute_result"
    }
   ],
   "source": [
    "#checking for missing values\n",
    "df['1st flr sf'].isna().sum()"
   ]
  },
  {
   "cell_type": "code",
   "execution_count": 26,
   "id": "6ae013bf",
   "metadata": {},
   "outputs": [
    {
     "data": {
      "image/png": "[encoded data removed]",
      "text/plain": [
       "<Figure size 640x480 with 1 Axes>"
      ]
     },
     "metadata": {},
     "output_type": "display_data"
    }
   ],
   "source": [
    "#checking for outliers (train)\n",
    "sns.boxplot(x=df['1st flr sf'],color = 'cornflowerblue');"
   ]
  },
  {
   "cell_type": "code",
   "execution_count": 27,
   "id": "90dce8fe",
   "metadata": {},
   "outputs": [
    {
     "data": {
      "text/plain": [
       "(878, 80)"
      ]
     },
     "execution_count": 27,
     "metadata": {},
     "output_type": "execute_result"
    }
   ],
   "source": [
    "# checking for outliers (test)\n",
    "df_test['total bsmt sf'].sort_values(ascending= True)\n",
    "df_test.shape"
   ]
  },
  {
   "cell_type": "markdown",
   "id": "da4c95ef",
   "metadata": {},
   "source": [
    "#### Year Built (cleaning)\n",
    "\n",
    "This feature describes the year the house was built.\n",
    "\n",
    "There are no missing values in the feature. Many of the homes were built in pre-1900, but that is within reason for the area. Ames, Iowa was founded in 1864 and therefore these outlier are natural outliers. The newest home was built in 2010, which is within the parameters of the dataset as outlined in the data dictionary."
   ]
  },
  {
   "cell_type": "code",
   "execution_count": 28,
   "id": "4fafb655",
   "metadata": {},
   "outputs": [
    {
     "data": {
      "text/plain": [
       "0"
      ]
     },
     "execution_count": 28,
     "metadata": {},
     "output_type": "execute_result"
    }
   ],
   "source": [
    "#Checking for missing values (train)\n",
    "df['year built'].isna().sum()"
   ]
  },
  {
   "cell_type": "code",
   "execution_count": 29,
   "id": "504445bc",
   "metadata": {},
   "outputs": [
    {
     "data": {
      "text/plain": [
       "144     2010\n",
       "1238    2009\n",
       "625     2009\n",
       "1241    2009\n",
       "1671    2009\n",
       "        ... \n",
       "1939    1880\n",
       "784     1880\n",
       "1134    1879\n",
       "136     1875\n",
       "951     1872\n",
       "Name: year built, Length: 2050, dtype: int64"
      ]
     },
     "execution_count": 29,
     "metadata": {},
     "output_type": "execute_result"
    }
   ],
   "source": [
    "#checking for outliers (train)\n",
    "df['year built'].sort_values(ascending = False)"
   ]
  },
  {
   "cell_type": "code",
   "execution_count": 30,
   "id": "4a5a72bc",
   "metadata": {},
   "outputs": [
    {
     "data": {
      "image/png": "[encoded data removed]",
      "text/plain": [
       "<Figure size 640x480 with 1 Axes>"
      ]
     },
     "metadata": {},
     "output_type": "display_data"
    }
   ],
   "source": [
    "# Checking for outliers (train)\n",
    "sns.boxplot(x = df['year built'], color = 'cornflowerblue');"
   ]
  },
  {
   "cell_type": "code",
   "execution_count": 31,
   "id": "2160e722",
   "metadata": {},
   "outputs": [
    {
     "data": {
      "text/plain": [
       "315    2010\n",
       "533    2010\n",
       "608    2009\n",
       "394    2009\n",
       "696    2009\n",
       "       ... \n",
       "51     1890\n",
       "817    1885\n",
       "19     1882\n",
       "32     1880\n",
       "27     1880\n",
       "Name: year built, Length: 878, dtype: int64"
      ]
     },
     "execution_count": 31,
     "metadata": {},
     "output_type": "execute_result"
    }
   ],
   "source": [
    "# Checking for outliers (test)\n",
    "df_test['year built'].sort_values(ascending = False)\n"
   ]
  },
  {
   "cell_type": "markdown",
   "id": "335e6569",
   "metadata": {},
   "source": [
    "#### Year Remodeled/Addition (cleaning)\n",
    "\n",
    "The 'year remod/add' feature describes the year the house was remodelled or when an addition to the existing structure was added. If the house has not had either a remodel or an addition, the date provided is the same as the construction date.\n",
    "\n",
    "The feature has no missing values. There are no outliers within the data. All dates provided are within the limits provided by the 'Year Built' feature, which implies that the remodel dates are realistic."
   ]
  },
  {
   "cell_type": "code",
   "execution_count": 32,
   "id": "1c3ca10c",
   "metadata": {},
   "outputs": [
    {
     "data": {
      "text/plain": [
       "0"
      ]
     },
     "execution_count": 32,
     "metadata": {},
     "output_type": "execute_result"
    }
   ],
   "source": [
    "# Checking for missing values (train)\n",
    "df['year remod/add'].isna().sum()"
   ]
  },
  {
   "cell_type": "code",
   "execution_count": 33,
   "id": "90d5f747",
   "metadata": {},
   "outputs": [
    {
     "data": {
      "text/plain": [
       "0"
      ]
     },
     "execution_count": 33,
     "metadata": {},
     "output_type": "execute_result"
    }
   ],
   "source": [
    "# Checking for missing values (test)\n",
    "df_test['year remod/add'].isna().sum()"
   ]
  },
  {
   "cell_type": "code",
   "execution_count": 34,
   "id": "2530a21f",
   "metadata": {},
   "outputs": [
    {
     "data": {
      "text/plain": [
       "(878, 80)"
      ]
     },
     "execution_count": 34,
     "metadata": {},
     "output_type": "execute_result"
    },
    {
     "data": {
      "image/png": "[encoded data removed]",
      "text/plain": [
       "<Figure size 640x480 with 1 Axes>"
      ]
     },
     "metadata": {},
     "output_type": "display_data"
    }
   ],
   "source": [
    "# Checking for outliers (train)\n",
    "sns.boxplot(x=df['year remod/add'],color='cornflowerblue');\n",
    "df_test.shape"
   ]
  },
  {
   "cell_type": "code",
   "execution_count": 35,
   "id": "09f2e5e0",
   "metadata": {},
   "outputs": [
    {
     "data": {
      "text/plain": [
       "316    2010\n",
       "323    2010\n",
       "533    2010\n",
       "452    2010\n",
       "315    2010\n",
       "       ... \n",
       "496    1950\n",
       "507    1950\n",
       "514    1950\n",
       "521    1950\n",
       "0      1950\n",
       "Name: year remod/add, Length: 878, dtype: int64"
      ]
     },
     "execution_count": 35,
     "metadata": {},
     "output_type": "execute_result"
    }
   ],
   "source": [
    "# Checking for outliers (test)\n",
    "df_test['year remod/add'].sort_values(ascending = False)"
   ]
  },
  {
   "cell_type": "markdown",
   "id": "a649f644",
   "metadata": {},
   "source": [
    "#### Full Bath (cleaning)\n",
    "\n",
    "The 'full bath' feature describes the number of full bathrooms in the house. The feature has no missing values and there are no outliers within the data."
   ]
  },
  {
   "cell_type": "code",
   "execution_count": 36,
   "id": "281dbf44",
   "metadata": {},
   "outputs": [
    {
     "data": {
      "text/plain": [
       "0"
      ]
     },
     "execution_count": 36,
     "metadata": {},
     "output_type": "execute_result"
    }
   ],
   "source": [
    "# checking for null values (train)\n",
    "df['full bath'].isna().sum()\n",
    "\n",
    "# checking for null values (test)\n",
    "df['full bath'].isna().sum()"
   ]
  },
  {
   "cell_type": "code",
   "execution_count": 37,
   "id": "179a48cf",
   "metadata": {},
   "outputs": [
    {
     "data": {
      "text/plain": [
       "1566    4\n",
       "1605    4\n",
       "1025    3\n",
       "616     3\n",
       "71      3\n",
       "       ..\n",
       "1372    0\n",
       "1280    0\n",
       "191     0\n",
       "744     0\n",
       "1518    0\n",
       "Name: full bath, Length: 2050, dtype: int64"
      ]
     },
     "execution_count": 37,
     "metadata": {},
     "output_type": "execute_result"
    },
    {
     "data": {
      "image/png": "[encoded data removed]",
      "text/plain": [
       "<Figure size 640x480 with 1 Axes>"
      ]
     },
     "metadata": {},
     "output_type": "display_data"
    }
   ],
   "source": [
    "# looking for outliers (train)\n",
    "sns.boxplot(df['full bath'])\n",
    "df['full bath'].sort_values(ascending = False)"
   ]
  },
  {
   "cell_type": "code",
   "execution_count": 38,
   "id": "c8faba1a",
   "metadata": {},
   "outputs": [
    {
     "data": {
      "text/plain": [
       "(878, 80)"
      ]
     },
     "execution_count": 38,
     "metadata": {},
     "output_type": "execute_result"
    },
    {
     "data": {
      "image/png": "[encoded data removed]",
      "text/plain": [
       "<Figure size 640x480 with 1 Axes>"
      ]
     },
     "metadata": {},
     "output_type": "display_data"
    }
   ],
   "source": [
    "# looking for outliers (test)\n",
    "sns.boxplot(df_test['full bath'])\n",
    "df_test['full bath'].sort_values(ascending = False)\n",
    "df_test.shape"
   ]
  },
  {
   "cell_type": "markdown",
   "id": "fbb573c3",
   "metadata": {},
   "source": [
    "#### Garage Year Built (cleaning)\n",
    "\n",
    "The 'garage yr blt' feature describes the year the garage addition was built or when an addition to the existing structure was added. If the house has not had either a remodel or an addition, the date assigned to the feature is 0.\n",
    "\n",
    "The feature has many missing values, as well as several outliers that would be outside what has been defined as the reasonable range. I have assigned NaN values in this column, as it is assumed that NaN values can be equated to a home not having a garage."
   ]
  },
  {
   "cell_type": "code",
   "execution_count": 39,
   "id": "cd974d47",
   "metadata": {},
   "outputs": [
    {
     "data": {
      "text/plain": [
       "0"
      ]
     },
     "execution_count": 39,
     "metadata": {},
     "output_type": "execute_result"
    }
   ],
   "source": [
    "df['garage yr blt'].isna().sum()\n",
    "df_test['garage yr blt'].isna().sum()"
   ]
  },
  {
   "cell_type": "code",
   "execution_count": 40,
   "id": "992f8964",
   "metadata": {},
   "outputs": [
    {
     "data": {
      "text/plain": [
       "1699    2207.0\n",
       "144     2010.0\n",
       "1241    2010.0\n",
       "1732    2009.0\n",
       "19      2009.0\n",
       "         ...  \n",
       "579        0.0\n",
       "53         0.0\n",
       "1754       0.0\n",
       "1927       0.0\n",
       "1519       0.0\n",
       "Name: garage yr blt, Length: 2050, dtype: float64"
      ]
     },
     "execution_count": 40,
     "metadata": {},
     "output_type": "execute_result"
    }
   ],
   "source": [
    "# looking for outliers (train)\n",
    "df['garage yr blt'].sort_values(ascending = False)"
   ]
  },
  {
   "cell_type": "code",
   "execution_count": 41,
   "id": "0a6ef854",
   "metadata": {},
   "outputs": [
    {
     "data": {
      "text/plain": [
       "452    2010.0\n",
       "316    2010.0\n",
       "315    2010.0\n",
       "323    2009.0\n",
       "608    2009.0\n",
       "        ...  \n",
       "320       0.0\n",
       "779       0.0\n",
       "618       0.0\n",
       "156       0.0\n",
       "230       0.0\n",
       "Name: garage yr blt, Length: 878, dtype: float64"
      ]
     },
     "execution_count": 41,
     "metadata": {},
     "output_type": "execute_result"
    }
   ],
   "source": [
    "# looking for outliers (test)\n",
    "df_test['garage yr blt'].sort_values(ascending = False)"
   ]
  },
  {
   "cell_type": "code",
   "execution_count": 42,
   "id": "c288d35c",
   "metadata": {},
   "outputs": [],
   "source": [
    "# Setting null values to 0(train)\n",
    "\n",
    "df['garage yr blt']=df['garage yr blt'].fillna(0)"
   ]
  },
  {
   "cell_type": "code",
   "execution_count": 43,
   "id": "ce6656b9",
   "metadata": {},
   "outputs": [
    {
     "data": {
      "text/plain": [
       "452    2010.0\n",
       "316    2010.0\n",
       "315    2010.0\n",
       "323    2009.0\n",
       "608    2009.0\n",
       "        ...  \n",
       "320       0.0\n",
       "779       0.0\n",
       "618       0.0\n",
       "156       0.0\n",
       "230       0.0\n",
       "Name: garage yr blt, Length: 878, dtype: float64"
      ]
     },
     "execution_count": 43,
     "metadata": {},
     "output_type": "execute_result"
    }
   ],
   "source": [
    "# Setting null values to 0(train)\n",
    "df_test['garage yr blt']=df_test['garage yr blt'].fillna(0)\n",
    "df_test['garage yr blt'].sort_values(ascending = False)"
   ]
  },
  {
   "cell_type": "markdown",
   "id": "73c1d223",
   "metadata": {},
   "source": [
    "#### Year Remodeled/Addition (cleaning)\n",
    "\n",
    "The 'mas vnr area' feature describes masonry veneer area in square feet for the exterior of the house.\n",
    "\n",
    "The feature has several missing values, which are represented as NaN. It's assumed, with the help of the data dictionary, that NaN represents a home without masonry vaneer. Therefore, the NaN values will be assigned to 0.\n",
    "\n",
    "totrms abvgrd     0.503509"
   ]
  },
  {
   "cell_type": "code",
   "execution_count": 44,
   "id": "67cc3e6c",
   "metadata": {},
   "outputs": [
    {
     "data": {
      "text/plain": [
       "(878, 80)"
      ]
     },
     "execution_count": 44,
     "metadata": {},
     "output_type": "execute_result"
    }
   ],
   "source": [
    "# checking for null values\n",
    "df['mas vnr area'].isna().sum()\n",
    "df_test.shape"
   ]
  },
  {
   "cell_type": "code",
   "execution_count": 45,
   "id": "0659bb81",
   "metadata": {},
   "outputs": [],
   "source": [
    "# removing null values (train)\n",
    "df['mas vnr area']=df['mas vnr area'].fillna(0)"
   ]
  },
  {
   "cell_type": "code",
   "execution_count": 46,
   "id": "9efdf913",
   "metadata": {},
   "outputs": [
    {
     "data": {
      "text/plain": [
       "0"
      ]
     },
     "execution_count": 46,
     "metadata": {},
     "output_type": "execute_result"
    }
   ],
   "source": [
    "# removing null values (test)\n",
    "df_test['mas vnr area']=df_test['mas vnr area'].fillna(0)\n",
    "df_test['mas vnr area'].isna().sum()"
   ]
  },
  {
   "cell_type": "code",
   "execution_count": 47,
   "id": "ac260a95",
   "metadata": {},
   "outputs": [
    {
     "data": {
      "text/plain": [
       "1409    1600.0\n",
       "1885    1224.0\n",
       "1151    1129.0\n",
       "378     1115.0\n",
       "489     1110.0\n",
       "         ...  \n",
       "836        0.0\n",
       "834        0.0\n",
       "833        0.0\n",
       "831        0.0\n",
       "2050       0.0\n",
       "Name: mas vnr area, Length: 2050, dtype: float64"
      ]
     },
     "execution_count": 47,
     "metadata": {},
     "output_type": "execute_result"
    }
   ],
   "source": [
    "# finding outliers (train)\n",
    "df['mas vnr area'].sort_values(ascending = False)"
   ]
  },
  {
   "cell_type": "code",
   "execution_count": 48,
   "id": "fe4bf304",
   "metadata": {},
   "outputs": [
    {
     "data": {
      "text/plain": [
       "0       1976.0\n",
       "1       1997.0\n",
       "2       1953.0\n",
       "3       2007.0\n",
       "4       1957.0\n",
       "         ...  \n",
       "2046    2007.0\n",
       "2047    1961.0\n",
       "2048    1929.0\n",
       "2049    1956.0\n",
       "2050    1999.0\n",
       "Name: garage yr blt, Length: 2050, dtype: float64"
      ]
     },
     "execution_count": 48,
     "metadata": {},
     "output_type": "execute_result"
    }
   ],
   "source": [
    "# finding outliers (test)\n",
    "df_test['mas vnr area'].sort_values(ascending = False)\n",
    "#df_test[df_test['mas vnr area'] == 0] = 1e-6\n",
    "\n",
    "df['year built']\n",
    "df['garage yr blt']"
   ]
  },
  {
   "cell_type": "markdown",
   "id": "e997a151",
   "metadata": {},
   "source": [
    "### Other Interesting Features (Cleaning)"
   ]
  },
  {
   "cell_type": "markdown",
   "id": "457fb9ae",
   "metadata": {},
   "source": [
    "#### Lot frontage (cleaning)\n",
    "Lot frontage represents the distance from the property line to the public easement and I'm assuming that a lot frontage = NaN means that the property doesn't have a front yard or an offset from the public easement. I'm setting NaN to zero to account for this, rather than remove the values."
   ]
  },
  {
   "cell_type": "code",
   "execution_count": 49,
   "id": "f746202f",
   "metadata": {},
   "outputs": [
    {
     "data": {
      "text/plain": [
       "(2050, 81)"
      ]
     },
     "execution_count": 49,
     "metadata": {},
     "output_type": "execute_result"
    }
   ],
   "source": [
    "# Setting null values to 0 (train)\n",
    "df['lot frontage'] = df['lot frontage'].replace(np.nan,0)\n",
    "df.shape"
   ]
  },
  {
   "cell_type": "code",
   "execution_count": 50,
   "id": "96586bc5",
   "metadata": {},
   "outputs": [
    {
     "data": {
      "text/plain": [
       "(878, 80)"
      ]
     },
     "execution_count": 50,
     "metadata": {},
     "output_type": "execute_result"
    }
   ],
   "source": [
    "# Setting null values to 0 (test)\n",
    "df_test['lot frontage'] = df_test['lot frontage'].replace(np.nan,0)\n",
    "df_test.shape"
   ]
  },
  {
   "cell_type": "code",
   "execution_count": 51,
   "id": "902ec739",
   "metadata": {},
   "outputs": [
    {
     "data": {
      "text/plain": [
       "(878, 80)"
      ]
     },
     "execution_count": 51,
     "metadata": {},
     "output_type": "execute_result"
    },
    {
     "data": {
      "image/png": "[encoded data removed]",
      "text/plain": [
       "<Figure size 640x480 with 1 Axes>"
      ]
     },
     "metadata": {},
     "output_type": "display_data"
    }
   ],
   "source": [
    "sns.boxplot(x = df['lot frontage'], color = 'cornflowerblue');\n",
    "df_test.shape"
   ]
  },
  {
   "cell_type": "markdown",
   "id": "181ef99d",
   "metadata": {},
   "source": [
    "As shown above in the boxplot, there's an outlier in the frontage data showing a single property with a very large lot frontage. I believe this outlier to be natural and therefore I am leaving it in the dataset. All other data points appear normal."
   ]
  },
  {
   "cell_type": "code",
   "execution_count": 52,
   "id": "5d867eca",
   "metadata": {},
   "outputs": [],
   "source": [
    "with open('pickles/df.pkl', 'wb') as f:\n",
    "    pickle.dump(df, f)\n",
    "      \n",
    "with open('pickles/df_test.pkl', 'wb') as f:\n",
    "    pickle.dump(df_test, f)"
   ]
  }
 ],
 "metadata": {
  "kernelspec": {
   "display_name": "Python 3 (ipykernel)",
   "language": "python",
   "name": "python3"
  },
  "language_info": {
   "codemirror_mode": {
    "name": "ipython",
    "version": 3
   },
   "file_extension": ".py",
   "mimetype": "text/x-python",
   "name": "python",
   "nbconvert_exporter": "python",
   "pygments_lexer": "ipython3",
   "version": "3.9.16"
  }
 },
 "nbformat": 4,
 "nbformat_minor": 5
}
