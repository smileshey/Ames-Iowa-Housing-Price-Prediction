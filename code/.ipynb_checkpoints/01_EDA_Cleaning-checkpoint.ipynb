{
 "cells": [
  {
   "cell_type": "code",
   "execution_count": 1,
   "id": "7808e506",
   "metadata": {},
   "outputs": [],
   "source": [
    "# This notebook is dedicated to the Exploratory Data Analysis for the Ames, Iowa Dataset\n",
    "#GOAL: You are tasked with creating a regression model based on the Ames Housing Dataset. This model will predict the price of a house at sale."
   ]
  },
  {
   "cell_type": "markdown",
   "id": "f33f18db",
   "metadata": {},
   "source": [
    "## EDA\n",
    "- **Read the data dictionary.**\n",
    "- Determine _what_ missing values mean.\n",
    "- Figure out what each categorical value represents.\n",
    "- Identify outliers.\n",
    "- Consider whether discrete values are better represented as categorical or continuous. (Are relationships to the target linear?)"
   ]
  },
  {
   "cell_type": "code",
   "execution_count": 2,
   "id": "7caddc64",
   "metadata": {},
   "outputs": [],
   "source": [
    "#imports\n",
    "import pandas as pd\n",
    "import numpy as np\n",
    "import matplotlib.pyplot as plt\n",
    "import seaborn as sns"
   ]
  },
  {
   "cell_type": "code",
   "execution_count": 3,
   "id": "575b919d",
   "metadata": {},
   "outputs": [],
   "source": [
    "#data imports\n",
    "df = pd.read_csv('../datasets/train.csv')"
   ]
  },
  {
   "cell_type": "code",
   "execution_count": 32,
   "id": "690abc39",
   "metadata": {},
   "outputs": [
    {
     "data": {
      "text/html": [
       "<div>\n",
       "<style scoped>\n",
       "    .dataframe tbody tr th:only-of-type {\n",
       "        vertical-align: middle;\n",
       "    }\n",
       "\n",
       "    .dataframe tbody tr th {\n",
       "        vertical-align: top;\n",
       "    }\n",
       "\n",
       "    .dataframe thead th {\n",
       "        text-align: right;\n",
       "    }\n",
       "</style>\n",
       "<table border=\"1\" class=\"dataframe\">\n",
       "  <thead>\n",
       "    <tr style=\"text-align: right;\">\n",
       "      <th></th>\n",
       "      <th>id</th>\n",
       "      <th>pid</th>\n",
       "      <th>ms subclass</th>\n",
       "      <th>lot frontage</th>\n",
       "      <th>lot area</th>\n",
       "      <th>street</th>\n",
       "      <th>lot shape</th>\n",
       "      <th>land contour</th>\n",
       "      <th>utilities</th>\n",
       "      <th>lot config</th>\n",
       "      <th>...</th>\n",
       "      <th>saleprice</th>\n",
       "      <th>ms zoning_A (agr)</th>\n",
       "      <th>ms zoning_C (all)</th>\n",
       "      <th>ms zoning_FV</th>\n",
       "      <th>ms zoning_I (all)</th>\n",
       "      <th>ms zoning_RH</th>\n",
       "      <th>ms zoning_RL</th>\n",
       "      <th>ms zoning_RM</th>\n",
       "      <th>alley_Grvl</th>\n",
       "      <th>alley_Pave</th>\n",
       "    </tr>\n",
       "  </thead>\n",
       "  <tbody>\n",
       "    <tr>\n",
       "      <th>0</th>\n",
       "      <td>109</td>\n",
       "      <td>533352170</td>\n",
       "      <td>60</td>\n",
       "      <td>0.0</td>\n",
       "      <td>13517</td>\n",
       "      <td>Pave</td>\n",
       "      <td>IR1</td>\n",
       "      <td>Lvl</td>\n",
       "      <td>AllPub</td>\n",
       "      <td>CulDSac</td>\n",
       "      <td>...</td>\n",
       "      <td>130500</td>\n",
       "      <td>0</td>\n",
       "      <td>0</td>\n",
       "      <td>0</td>\n",
       "      <td>0</td>\n",
       "      <td>0</td>\n",
       "      <td>1</td>\n",
       "      <td>0</td>\n",
       "      <td>0</td>\n",
       "      <td>0</td>\n",
       "    </tr>\n",
       "    <tr>\n",
       "      <th>1</th>\n",
       "      <td>544</td>\n",
       "      <td>531379050</td>\n",
       "      <td>60</td>\n",
       "      <td>43.0</td>\n",
       "      <td>11492</td>\n",
       "      <td>Pave</td>\n",
       "      <td>IR1</td>\n",
       "      <td>Lvl</td>\n",
       "      <td>AllPub</td>\n",
       "      <td>CulDSac</td>\n",
       "      <td>...</td>\n",
       "      <td>220000</td>\n",
       "      <td>0</td>\n",
       "      <td>0</td>\n",
       "      <td>0</td>\n",
       "      <td>0</td>\n",
       "      <td>0</td>\n",
       "      <td>1</td>\n",
       "      <td>0</td>\n",
       "      <td>0</td>\n",
       "      <td>0</td>\n",
       "    </tr>\n",
       "    <tr>\n",
       "      <th>2</th>\n",
       "      <td>153</td>\n",
       "      <td>535304180</td>\n",
       "      <td>20</td>\n",
       "      <td>68.0</td>\n",
       "      <td>7922</td>\n",
       "      <td>Pave</td>\n",
       "      <td>Reg</td>\n",
       "      <td>Lvl</td>\n",
       "      <td>AllPub</td>\n",
       "      <td>Inside</td>\n",
       "      <td>...</td>\n",
       "      <td>109000</td>\n",
       "      <td>0</td>\n",
       "      <td>0</td>\n",
       "      <td>0</td>\n",
       "      <td>0</td>\n",
       "      <td>0</td>\n",
       "      <td>1</td>\n",
       "      <td>0</td>\n",
       "      <td>0</td>\n",
       "      <td>0</td>\n",
       "    </tr>\n",
       "  </tbody>\n",
       "</table>\n",
       "<p>3 rows × 88 columns</p>\n",
       "</div>"
      ],
      "text/plain": [
       "    id        pid  ms subclass  lot frontage  lot area street lot shape  \\\n",
       "0  109  533352170           60           0.0     13517   Pave       IR1   \n",
       "1  544  531379050           60          43.0     11492   Pave       IR1   \n",
       "2  153  535304180           20          68.0      7922   Pave       Reg   \n",
       "\n",
       "  land contour utilities lot config  ... saleprice ms zoning_A (agr)  \\\n",
       "0          Lvl    AllPub    CulDSac  ...    130500                 0   \n",
       "1          Lvl    AllPub    CulDSac  ...    220000                 0   \n",
       "2          Lvl    AllPub     Inside  ...    109000                 0   \n",
       "\n",
       "  ms zoning_C (all) ms zoning_FV ms zoning_I (all) ms zoning_RH  ms zoning_RL  \\\n",
       "0                 0            0                 0            0             1   \n",
       "1                 0            0                 0            0             1   \n",
       "2                 0            0                 0            0             1   \n",
       "\n",
       "   ms zoning_RM  alley_Grvl  alley_Pave  \n",
       "0             0           0           0  \n",
       "1             0           0           0  \n",
       "2             0           0           0  \n",
       "\n",
       "[3 rows x 88 columns]"
      ]
     },
     "metadata": {},
     "output_type": "display_data"
    }
   ],
   "source": [
    "# What does it look like?\n",
    "display(df.head(3))\n",
    "#display(df.columns)\n",
    "\n",
    "# converting heading to snakecase\n",
    "df.columns = df.columns.str.lower().str.replace('.', '_',regex = False)"
   ]
  },
  {
   "cell_type": "code",
   "execution_count": 5,
   "id": "19c4b8f8",
   "metadata": {},
   "outputs": [
    {
     "data": {
      "text/plain": [
       "id                0\n",
       "pid               0\n",
       "ms subclass       0\n",
       "ms zoning         0\n",
       "lot frontage    330\n",
       "               ... \n",
       "misc val          0\n",
       "mo sold           0\n",
       "yr sold           0\n",
       "sale type         0\n",
       "saleprice         0\n",
       "Length: 81, dtype: int64"
      ]
     },
     "execution_count": 5,
     "metadata": {},
     "output_type": "execute_result"
    }
   ],
   "source": [
    "#Finding missing values\n",
    "df.isna().sum()\n",
    "#display(df.columns)"
   ]
  },
  {
   "cell_type": "markdown",
   "id": "0e760e30",
   "metadata": {},
   "source": [
    "## Finding important Features\n",
    "\n",
    "Before I begin cleaning the data, I want to know what level of cleaning will be required for each column. As I clean the dataframe, I want to focus on specific columns and make them ready for importation into the model."
   ]
  },
  {
   "cell_type": "code",
   "execution_count": 6,
   "id": "491f7594",
   "metadata": {
    "scrolled": true
   },
   "outputs": [
    {
     "data": {
      "text/plain": [
       "overall qual      0.800207\n",
       "gr liv area       0.697038\n",
       "garage area       0.650270\n",
       "garage cars       0.648220\n",
       "total bsmt sf     0.628925\n",
       "1st flr sf        0.618486\n",
       "year built        0.571849\n",
       "year remod/add    0.550370\n",
       "Name: saleprice, dtype: float64"
      ]
     },
     "metadata": {},
     "output_type": "display_data"
    }
   ],
   "source": [
    "cor_matrix = df.corr(numeric_only = True)\n",
    "target_cor = cor_matrix['saleprice']\n",
    "target_cor = target_cor[target_cor !=1].sort_values(ascending=False)\n",
    "display(target_cor.head(8))\n",
    "#plt.figure(figsize=(100,100))\n",
    "#sns.heatmap(df.corr(), annot=True,vmin = -1,vmax = 1,cmap = 'coolwarm');"
   ]
  },
  {
   "cell_type": "markdown",
   "id": "b7a48ac7",
   "metadata": {},
   "source": [
    "Above, I've created a list of values that are strongly correlated with saleprice by creating a list of the upper triangle of the heatmap and sorting the list. This removes the values where correlation = 1.\n",
    "\n",
    "From the above list, I'm interested in looking at the top 8 values as ordered by correlation with sale price."
   ]
  },
  {
   "cell_type": "code",
   "execution_count": 7,
   "id": "f8e510d3",
   "metadata": {},
   "outputs": [
    {
     "name": "stdout",
     "output_type": "stream",
     "text": [
      "Index(['overall qual', 'gr liv area', 'garage area', 'garage cars',\n",
      "       'total bsmt sf', '1st flr sf', 'year built', 'year remod/add'],\n",
      "      dtype='object')\n"
     ]
    }
   ],
   "source": [
    "#list of top 10 correlated features\n",
    "corr_list = target_cor.head(8).index\n",
    "print(corr_list)"
   ]
  },
  {
   "cell_type": "markdown",
   "id": "efbf847b",
   "metadata": {},
   "source": [
    "#### MS Zoning (cleaning)\n",
    "MS zoning identitifes the the general zoning classification of the sale. Below is a list of the listed values given in the dataset as shorthand for the zoning classification.\n",
    "\t\t\n",
    "       A\tAgriculture\n",
    "       C\tCommercial\n",
    "       FV\tFloating Village Residential\n",
    "       I\tIndustrial\n",
    "       RH\tResidential High Density\n",
    "       RL\tResidential Low Density\n",
    "       RP\tResidential Low Density Park \n",
    "       RM\tResidential Medium Density\n",
    "       \n",
    "       \n",
    "Within the 'ms subclass' column, there are no missing values. "
   ]
  },
  {
   "cell_type": "code",
   "execution_count": 8,
   "id": "45c17f66",
   "metadata": {},
   "outputs": [],
   "source": [
    "dummies_mszone = pd.get_dummies(df, columns=['ms zoning'])\n",
    "df = pd.get_dummies(df, columns=['ms zoning'])"
   ]
  },
  {
   "cell_type": "code",
   "execution_count": 9,
   "id": "6dd07296",
   "metadata": {},
   "outputs": [],
   "source": [
    "# setting up a list of dummy column names for use in the model later\n",
    "mszone = dummies_mszone.columns[dummies_mszone.columns.str.startswith('ms zoning_')]"
   ]
  },
  {
   "cell_type": "markdown",
   "id": "74b1cc0b",
   "metadata": {},
   "source": [
    "#### Lot frontage (cleaning)\n",
    "Lot frontage represents the distance from the property line to the public easement and I'm assuming that a lot frontage = NaN means that the property doesn't have a front yard or an offset from the public easement. I'm setting NaN to zero to account for this, rather than remove the values.\n",
    "\n"
   ]
  },
  {
   "cell_type": "code",
   "execution_count": 10,
   "id": "37b9f156",
   "metadata": {},
   "outputs": [
    {
     "data": {
      "image/png": "[encoded data removed]",
      "text/plain": [
       "<Figure size 640x480 with 1 Axes>"
      ]
     },
     "metadata": {},
     "output_type": "display_data"
    }
   ],
   "source": [
    "df['lot frontage'] = df['lot frontage'].replace(np.nan,0)\n",
    "sns.boxplot(x = df['lot frontage'], color = 'cornflowerblue');"
   ]
  },
  {
   "cell_type": "markdown",
   "id": "dcd93905",
   "metadata": {},
   "source": [
    "As shown above in the boxplot, there's an outlier in the frontage data showing a single property with a very large lot frontage. I believe this outlier to be natural and therefore I am leaving it in the dataset. All other data points appear normal."
   ]
  },
  {
   "cell_type": "markdown",
   "id": "5b450443",
   "metadata": {},
   "source": [
    "#### Alley (cleaning)\n",
    "alley represents the portion of public easement adjacent to the property line. This alleyway can be used for trash collection and connections to private parking. There are a large number of NaN values, which is understandable given the nature of city planning around main streets.\n",
    "\n",
    "I'll be encoding the alley column, since a property will either have an alley or not. There are further designations given to the type of surface (gravel or paved) in the alley, which I will handle using get_dummies. \n",
    "\n",
    "An alleyway may be an important indicator of price for certain types of properties and therefore I will use the dummy columns within my model\n"
   ]
  },
  {
   "cell_type": "code",
   "execution_count": 11,
   "id": "83a5160f",
   "metadata": {},
   "outputs": [],
   "source": [
    "dummies_alley = pd.get_dummies(df,columns=['alley'])\n",
    "df = pd.get_dummies(df, columns=['alley'])"
   ]
  },
  {
   "cell_type": "code",
   "execution_count": 12,
   "id": "2be73689",
   "metadata": {},
   "outputs": [],
   "source": [
    "# setting up a list of dummy column names for use in the model later\n",
    "alley = dummies_alley.columns[dummies_alley.columns.str.startswith('alley_')] "
   ]
  },
  {
   "cell_type": "markdown",
   "id": "3af19a3c",
   "metadata": {},
   "source": [
    "#### Overall Qual (cleaning)\n",
    "\n",
    "From the data dictionary: Overall Qual (Ordinal) rates the overall material and finish of the house\n",
    "\n",
    "       10\tVery Excellent\n",
    "       ...\n",
    "       5\tAverage\n",
    "       ...\n",
    "       1\tVery Poor\n",
    "\n",
    "There are no missing values in the feature Overall Qual. Of the 2051 values in the feature, 5 are rated a 1. This is an outlier, but the outlier is natural and therefore I will leave it in the data.\n"
   ]
  },
  {
   "cell_type": "code",
   "execution_count": 13,
   "id": "1f21634d",
   "metadata": {},
   "outputs": [
    {
     "data": {
      "text/plain": [
       "(2051,)"
      ]
     },
     "execution_count": 13,
     "metadata": {},
     "output_type": "execute_result"
    }
   ],
   "source": [
    "df['overall qual'].isna().sum()\n",
    "df['overall qual'].shape"
   ]
  },
  {
   "cell_type": "code",
   "execution_count": 14,
   "id": "8ab640ba",
   "metadata": {},
   "outputs": [
    {
     "data": {
      "image/png": "[encoded data removed]",
      "text/plain": [
       "<Figure size 640x480 with 1 Axes>"
      ]
     },
     "metadata": {},
     "output_type": "display_data"
    }
   ],
   "source": [
    "sns.boxplot(x= df['overall qual'], color ='cornflowerblue' );\n"
   ]
  },
  {
   "cell_type": "code",
   "execution_count": 15,
   "id": "fb27b481",
   "metadata": {},
   "outputs": [
    {
     "data": {
      "text/plain": [
       "183      1\n",
       "1372     1\n",
       "1428     1\n",
       "635      1\n",
       "581      2\n",
       "        ..\n",
       "800     10\n",
       "1035    10\n",
       "138     10\n",
       "986     10\n",
       "960     10\n",
       "Name: overall qual, Length: 2051, dtype: int64"
      ]
     },
     "execution_count": 15,
     "metadata": {},
     "output_type": "execute_result"
    }
   ],
   "source": [
    "df['overall qual'].sort_values(ascending = True)"
   ]
  },
  {
   "cell_type": "code",
   "execution_count": null,
   "id": "ff603a24",
   "metadata": {},
   "outputs": [],
   "source": []
  },
  {
   "cell_type": "markdown",
   "id": "bb52bc86",
   "metadata": {},
   "source": [
    "#### Gr liv area (cleaning)\n",
    "\n",
    "Gr Liv Area represents the above grade living area in square feet. It is presumed that this feature would exclude basement square footage.\n",
    "\n",
    "The feature has no missing values. There are many outliers which can be seen in the boxplot below. I will revisit this  section after generating the model to determine if these outlier are to be included in the model."
   ]
  },
  {
   "cell_type": "code",
   "execution_count": 16,
   "id": "17697a10",
   "metadata": {},
   "outputs": [
    {
     "data": {
      "image/png": "[encoded data removed]",
      "text/plain": [
       "<Figure size 640x480 with 1 Axes>"
      ]
     },
     "metadata": {},
     "output_type": "display_data"
    }
   ],
   "source": [
    "sns.boxplot(x = df['gr liv area'],color = 'cornflowerblue');"
   ]
  },
  {
   "cell_type": "code",
   "execution_count": 17,
   "id": "1e887ad9",
   "metadata": {},
   "outputs": [
    {
     "data": {
      "text/plain": [
       "1428     334\n",
       "432      438\n",
       "1518     480\n",
       "1643     492\n",
       "1292     498\n",
       "        ... \n",
       "1035    3608\n",
       "1897    3672\n",
       "616     3820\n",
       "1885    5095\n",
       "960     5642\n",
       "Name: gr liv area, Length: 2051, dtype: int64"
      ]
     },
     "execution_count": 17,
     "metadata": {},
     "output_type": "execute_result"
    }
   ],
   "source": [
    "df['gr liv area'].sort_values(ascending = True)"
   ]
  },
  {
   "cell_type": "markdown",
   "id": "7cdc056d",
   "metadata": {},
   "source": [
    "#### Garage Area (cleaning)\n",
    "\n",
    "Gr Liv Area represents the size of garage in square feet.\n",
    "\n",
    "The feature has a missing value, which I removed below. There are many outliers which can be seen in the boxplot below. I will revisit this  section after generating the model to determine if these outlier are to be included in the model."
   ]
  },
  {
   "cell_type": "code",
   "execution_count": 18,
   "id": "3c79eb32",
   "metadata": {},
   "outputs": [
    {
     "data": {
      "text/plain": [
       "0"
      ]
     },
     "execution_count": 18,
     "metadata": {},
     "output_type": "execute_result"
    }
   ],
   "source": [
    "# removing NaN values\n",
    "df=df[df['garage area'].notna()]\n",
    "df['garage area'].isna().sum()\n"
   ]
  },
  {
   "cell_type": "code",
   "execution_count": 19,
   "id": "f1ebb5ba",
   "metadata": {},
   "outputs": [
    {
     "data": {
      "text/plain": [
       "960     1418.0\n",
       "337     1356.0\n",
       "1158    1348.0\n",
       "1293    1314.0\n",
       "1557    1231.0\n",
       "         ...  \n",
       "457        0.0\n",
       "542        0.0\n",
       "1893       0.0\n",
       "1528       0.0\n",
       "942        0.0\n",
       "Name: garage area, Length: 2050, dtype: float64"
      ]
     },
     "execution_count": 19,
     "metadata": {},
     "output_type": "execute_result"
    }
   ],
   "source": [
    "df['garage area'].sort_values(ascending = False)"
   ]
  },
  {
   "cell_type": "markdown",
   "id": "e851b35d",
   "metadata": {},
   "source": [
    "#### Garage cars (cleaning)\n",
    "\n",
    "The garage cars feature describes the number of cars that can fit in the garage. \n",
    "\n",
    "There are 2 outliers, however they are within reason and appear to be natural outliers. There are no missing values and the data is ready for modelling."
   ]
  },
  {
   "cell_type": "code",
   "execution_count": 20,
   "id": "be6c26d8",
   "metadata": {},
   "outputs": [
    {
     "data": {
      "image/png": "[encoded data removed]",
      "text/plain": [
       "<Figure size 640x480 with 1 Axes>"
      ]
     },
     "metadata": {},
     "output_type": "display_data"
    }
   ],
   "source": [
    "df['garage cars'].isna().sum()\n",
    "sns.boxplot(x =df['garage cars'],color = 'cornflowerblue');"
   ]
  },
  {
   "cell_type": "markdown",
   "id": "3ca6ec47",
   "metadata": {},
   "source": [
    "#### Total Basement Sq.ft (cleaning)\n",
    "\n",
    "The 'total bsmt sf' feature represents the square footage of the basement for the property.\n",
    "\n",
    "There is one missing value in the data, which has been removed. There are several outliers, however more analysis will need to be completed to determine if the outliers are significant and not natural outliers.\n"
   ]
  },
  {
   "cell_type": "code",
   "execution_count": 21,
   "id": "00eb0637",
   "metadata": {},
   "outputs": [
    {
     "data": {
      "text/plain": [
       "1"
      ]
     },
     "execution_count": 21,
     "metadata": {},
     "output_type": "execute_result"
    }
   ],
   "source": [
    "# identifying missing values \n",
    "df['total bsmt sf'].isna().sum()"
   ]
  },
  {
   "cell_type": "code",
   "execution_count": 22,
   "id": "894c7b52",
   "metadata": {},
   "outputs": [
    {
     "data": {
      "text/plain": [
       "0"
      ]
     },
     "execution_count": 22,
     "metadata": {},
     "output_type": "execute_result"
    }
   ],
   "source": [
    "# removing missing values\n",
    "df['total bsmt sf'].sort_values(ascending= False)\n",
    "df=df[df['total bsmt sf'].notna()]\n",
    "df['total bsmt sf'].isna().sum()"
   ]
  },
  {
   "cell_type": "code",
   "execution_count": 23,
   "id": "073a937a",
   "metadata": {},
   "outputs": [
    {
     "data": {
      "image/png": "[encoded data removed]",
      "text/plain": [
       "<Figure size 640x480 with 1 Axes>"
      ]
     },
     "metadata": {},
     "output_type": "display_data"
    }
   ],
   "source": [
    "sns.boxplot(x=df['total bsmt sf'], color = 'cornflowerblue' );"
   ]
  },
  {
   "cell_type": "code",
   "execution_count": 24,
   "id": "543148fe",
   "metadata": {},
   "outputs": [
    {
     "data": {
      "text/plain": [
       "1022       0.0\n",
       "616        0.0\n",
       "114        0.0\n",
       "642        0.0\n",
       "1428       0.0\n",
       "         ...  \n",
       "1164    3094.0\n",
       "328     3200.0\n",
       "1147    3206.0\n",
       "1885    5095.0\n",
       "960     6110.0\n",
       "Name: total bsmt sf, Length: 2049, dtype: float64"
      ]
     },
     "execution_count": 24,
     "metadata": {},
     "output_type": "execute_result"
    }
   ],
   "source": [
    "# Checking if left side outlier is negative or 0\n",
    "df['total bsmt sf'].sort_values(ascending= True)"
   ]
  },
  {
   "cell_type": "markdown",
   "id": "ce512d85",
   "metadata": {},
   "source": [
    "#### 1st Floor Sq.ft (cleaning)\n",
    "\n",
    "This feature describes the square footage of the 1st floor.\n",
    "\n",
    "There are no missing values in the data, however there are many outliers. All of the outliers are realistic and will be left in the data.\n"
   ]
  },
  {
   "cell_type": "code",
   "execution_count": 25,
   "id": "d0c0f2d7",
   "metadata": {},
   "outputs": [
    {
     "data": {
      "text/plain": [
       "0"
      ]
     },
     "execution_count": 25,
     "metadata": {},
     "output_type": "execute_result"
    }
   ],
   "source": [
    "#checking for missing values\n",
    "df['1st flr sf'].isna().sum()"
   ]
  },
  {
   "cell_type": "code",
   "execution_count": 26,
   "id": "8b35abee",
   "metadata": {},
   "outputs": [
    {
     "data": {
      "image/png": "[encoded data removed]",
      "text/plain": [
       "<Figure size 640x480 with 1 Axes>"
      ]
     },
     "metadata": {},
     "output_type": "display_data"
    }
   ],
   "source": [
    "#checking for outliers\n",
    "sns.boxplot(x=df['1st flr sf'],color = 'cornflowerblue');"
   ]
  },
  {
   "cell_type": "markdown",
   "id": "ed428752",
   "metadata": {},
   "source": [
    "#### Year Built (cleaning)\n",
    "\n",
    "This feature describes the year the house was built.\n",
    "\n",
    "There are no missing values in the feature. Many of the homes were built in pre-1900, but that is within reason for the area. Ames, Iowa was founded in 1864 and therefore these outlier are natural outliers. The newest home was built in 2010, which is within the parameters of the dataset as outlined in the data dictionary."
   ]
  },
  {
   "cell_type": "code",
   "execution_count": 27,
   "id": "8cb0c751",
   "metadata": {},
   "outputs": [
    {
     "data": {
      "text/plain": [
       "0"
      ]
     },
     "execution_count": 27,
     "metadata": {},
     "output_type": "execute_result"
    }
   ],
   "source": [
    "#Checking for missing values\n",
    "df['year built'].isna().sum()\n"
   ]
  },
  {
   "cell_type": "code",
   "execution_count": 28,
   "id": "8ef24d5f",
   "metadata": {},
   "outputs": [
    {
     "data": {
      "text/plain": [
       "144     2010\n",
       "1238    2009\n",
       "625     2009\n",
       "1241    2009\n",
       "1671    2009\n",
       "        ... \n",
       "784     1880\n",
       "12      1880\n",
       "1134    1879\n",
       "136     1875\n",
       "951     1872\n",
       "Name: year built, Length: 2049, dtype: int64"
      ]
     },
     "execution_count": 28,
     "metadata": {},
     "output_type": "execute_result"
    }
   ],
   "source": [
    "#checking for outliers\n",
    "df['year built'].sort_values(ascending = False)"
   ]
  },
  {
   "cell_type": "code",
   "execution_count": 29,
   "id": "0634b1a5",
   "metadata": {},
   "outputs": [
    {
     "data": {
      "image/png": "[encoded data removed]",
      "text/plain": [
       "<Figure size 640x480 with 1 Axes>"
      ]
     },
     "metadata": {},
     "output_type": "display_data"
    }
   ],
   "source": [
    "# Checking for outliers\n",
    "sns.boxplot(x = df['year built'], color = 'cornflowerblue');\n"
   ]
  },
  {
   "cell_type": "markdown",
   "id": "31110ebb",
   "metadata": {},
   "source": [
    "#### Year Remodeled/Addition (cleaning)\n",
    "\n",
    "The 'year remod/add' feature describes the year the house was remodelled or when an addition to the existing structure was added. If the house has not had either a remodel or an addition, the date provided is the same as the construction date.\n",
    "\n",
    "The features has no missing values. There are no outliers within the data. All dates provided are within the limits provided by the 'Year Built' feature, which implies that the remodel dates are realistic."
   ]
  },
  {
   "cell_type": "code",
   "execution_count": 30,
   "id": "90ee3a27",
   "metadata": {},
   "outputs": [
    {
     "data": {
      "text/plain": [
       "0"
      ]
     },
     "execution_count": 30,
     "metadata": {},
     "output_type": "execute_result"
    }
   ],
   "source": [
    "# Checking for missing values\n",
    "df['year remod/add'].isna().sum()"
   ]
  },
  {
   "cell_type": "code",
   "execution_count": 31,
   "id": "298f5fc1",
   "metadata": {},
   "outputs": [
    {
     "data": {
      "image/png": "[encoded data removed]",
      "text/plain": [
       "<Figure size 640x480 with 1 Axes>"
      ]
     },
     "metadata": {},
     "output_type": "display_data"
    }
   ],
   "source": [
    "# Checking for outliers\n",
    "sns.boxplot(x=df['year remod/add'],color='cornflowerblue');"
   ]
  },
  {
   "cell_type": "code",
   "execution_count": null,
   "id": "5e5c2397",
   "metadata": {},
   "outputs": [],
   "source": []
  },
  {
   "cell_type": "code",
   "execution_count": 34,
   "id": "4cd75521",
   "metadata": {},
   "outputs": [],
   "source": [
    "#saving cleaned df to the datasets folder\n",
    "df.to_csv('../datasets/data_clean.csv',index = False)"
   ]
  }
 ],
 "metadata": {
  "kernelspec": {
   "display_name": "Python 3 (ipykernel)",
   "language": "python",
   "name": "python3"
  },
  "language_info": {
   "codemirror_mode": {
    "name": "ipython",
    "version": 3
   },
   "file_extension": ".py",
   "mimetype": "text/x-python",
   "name": "python",
   "nbconvert_exporter": "python",
   "pygments_lexer": "ipython3",
   "version": "3.8.16"
  }
 },
 "nbformat": 4,
 "nbformat_minor": 5
}
