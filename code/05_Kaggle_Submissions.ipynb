{
 "cells": [
  {
   "cell_type": "markdown",
   "metadata": {},
   "source": [
    "## Model Tuning\n",
    "\n",
    "In this worksheet, I'll be creating a Kaggle Submission using my Ridge Regression Model."
   ]
  },
  {
   "cell_type": "code",
   "execution_count": 1,
   "metadata": {},
   "outputs": [],
   "source": [
    "# Library imports\n",
    "import pandas as pd\n",
    "import numpy as np\n",
    "import matplotlib.pyplot as plt\n",
    "import seaborn as sns\n",
    "\n",
    "from sklearn.model_selection import train_test_split\n",
    "from sklearn.linear_model import LinearRegression, LassoCV, RidgeCV\n",
    "from sklearn.preprocessing import StandardScaler\n",
    "from sklearn.metrics import mean_squared_error, mean_absolute_error\n",
    "from sklearn.linear_model import ElasticNet,RidgeCV, ElasticNetCV\n",
    "from sklearn.preprocessing import OneHotEncoder,PolynomialFeatures\n",
    "\n",
    "\n",
    "import pickle"
   ]
  },
  {
   "cell_type": "code",
   "execution_count": 2,
   "metadata": {},
   "outputs": [],
   "source": [
    "# dataframes as a variable\n",
    "with open('pickles/df.pkl', 'rb') as f:\n",
    "    df = pickle.load(f)\n",
    "    \n",
    "with open('pickles/df_test.pkl', 'rb') as f:\n",
    "    df_test = pickle.load(f)\n",
    "    "
   ]
  },
  {
   "cell_type": "code",
   "execution_count": 3,
   "metadata": {},
   "outputs": [],
   "source": [
    "# variables import\n",
    "with open('pickles/corr_list.pkl', 'rb') as f:\n",
    "    corr_list = pickle.load(f)\n",
    "    \n",
    "with open('pickles/features.pkl', 'rb') as f:\n",
    "    features = pickle.load(f)\n",
    "    \n",
    "with open('pickles/ridge.pkl', 'rb') as f:\n",
    "    ridge_cv = pickle.load(f)\n",
    "    \n",
    "with open('pickles/id.pkl', 'rb') as f:\n",
    "    id = pickle.load(f)"
   ]
  },
  {
   "cell_type": "markdown",
   "metadata": {},
   "source": [
    "#### Target features"
   ]
  },
  {
   "cell_type": "code",
   "execution_count": 4,
   "metadata": {},
   "outputs": [],
   "source": [
    "#continuous and categorical features list\n",
    "features_test = df_test.columns"
   ]
  },
  {
   "cell_type": "markdown",
   "metadata": {},
   "source": [
    "### Running Model on Test Data (Kaggle Submission)\n",
    "\n",
    "In the previous worksheet, I ran the model on X_train and y_train. Below I'll run the model on X_test and y_test to generate a kaggle submission."
   ]
  },
  {
   "cell_type": "code",
   "execution_count": 5,
   "metadata": {},
   "outputs": [],
   "source": [
    "# setting x and y (target)\n",
    "X_test = df_test[features]\n",
    "X_train = df[features]\n",
    "y_train = df['saleprice']"
   ]
  },
  {
   "cell_type": "markdown",
   "metadata": {},
   "source": [
    "##### Using my Ridge Regression\n",
    "\n",
    "For my submission to Kaggle, I'll be using my ridge regression that I created in previous notebooks."
   ]
  },
  {
   "cell_type": "code",
   "execution_count": 6,
   "metadata": {},
   "outputs": [],
   "source": [
    "y_pred = ridge_cv.predict(X_test)\n"
   ]
  },
  {
   "cell_type": "code",
   "execution_count": 7,
   "metadata": {},
   "outputs": [
    {
     "name": "stdout",
     "output_type": "stream",
     "text": [
      "          saleprice\n",
      "id                 \n",
      "2658   77141.103166\n",
      "2718  155828.544279\n",
      "2414  231336.119818\n",
      "1989  101995.895575\n",
      "625   169864.557711\n",
      "333    96591.150123\n",
      "1327  103953.967943\n",
      "858   168967.191489\n",
      "95    167608.941499\n",
      "1568  138072.697965\n",
      "2482  149936.074438\n",
      "1364  112137.254145\n",
      "2584  149443.308979\n",
      "818   259630.929926\n",
      "2673  133706.573099\n",
      "2089  161408.063616\n",
      "1297  135524.194783\n",
      "790   132945.117763\n",
      "2616  161736.520215\n",
      "720   176965.704117\n"
     ]
    },
    {
     "data": {
      "text/html": [
       "<div>\n",
       "<style scoped>\n",
       "    .dataframe tbody tr th:only-of-type {\n",
       "        vertical-align: middle;\n",
       "    }\n",
       "\n",
       "    .dataframe tbody tr th {\n",
       "        vertical-align: top;\n",
       "    }\n",
       "\n",
       "    .dataframe thead th {\n",
       "        text-align: right;\n",
       "    }\n",
       "</style>\n",
       "<table border=\"1\" class=\"dataframe\">\n",
       "  <thead>\n",
       "    <tr style=\"text-align: right;\">\n",
       "      <th></th>\n",
       "      <th>saleprice</th>\n",
       "    </tr>\n",
       "    <tr>\n",
       "      <th>id</th>\n",
       "      <th></th>\n",
       "    </tr>\n",
       "  </thead>\n",
       "  <tbody>\n",
       "    <tr>\n",
       "      <th>2658</th>\n",
       "      <td>77141.103166</td>\n",
       "    </tr>\n",
       "    <tr>\n",
       "      <th>2718</th>\n",
       "      <td>155828.544279</td>\n",
       "    </tr>\n",
       "    <tr>\n",
       "      <th>2414</th>\n",
       "      <td>231336.119818</td>\n",
       "    </tr>\n",
       "    <tr>\n",
       "      <th>1989</th>\n",
       "      <td>101995.895575</td>\n",
       "    </tr>\n",
       "    <tr>\n",
       "      <th>625</th>\n",
       "      <td>169864.557711</td>\n",
       "    </tr>\n",
       "    <tr>\n",
       "      <th>...</th>\n",
       "      <td>...</td>\n",
       "    </tr>\n",
       "    <tr>\n",
       "      <th>1662</th>\n",
       "      <td>188615.762950</td>\n",
       "    </tr>\n",
       "    <tr>\n",
       "      <th>1234</th>\n",
       "      <td>202058.657264</td>\n",
       "    </tr>\n",
       "    <tr>\n",
       "      <th>1373</th>\n",
       "      <td>153631.703215</td>\n",
       "    </tr>\n",
       "    <tr>\n",
       "      <th>1672</th>\n",
       "      <td>107849.422346</td>\n",
       "    </tr>\n",
       "    <tr>\n",
       "      <th>1939</th>\n",
       "      <td>132972.081962</td>\n",
       "    </tr>\n",
       "  </tbody>\n",
       "</table>\n",
       "<p>878 rows × 1 columns</p>\n",
       "</div>"
      ],
      "text/plain": [
       "          saleprice\n",
       "id                 \n",
       "2658   77141.103166\n",
       "2718  155828.544279\n",
       "2414  231336.119818\n",
       "1989  101995.895575\n",
       "625   169864.557711\n",
       "...             ...\n",
       "1662  188615.762950\n",
       "1234  202058.657264\n",
       "1373  153631.703215\n",
       "1672  107849.422346\n",
       "1939  132972.081962\n",
       "\n",
       "[878 rows x 1 columns]"
      ]
     },
     "execution_count": 7,
     "metadata": {},
     "output_type": "execute_result"
    }
   ],
   "source": [
    "# repredicting value from features list imported above\n",
    "preds = ridge_cv.predict(df_test[features])\n",
    "preds.shape\n",
    "# Creating submission dataframe\n",
    "# Create a new DataFrame with id and saleprice columns\n",
    "df_result = pd.DataFrame({'id': id.values, 'saleprice': preds})\n",
    "\n",
    "# Set the id column as the index\n",
    "df_result.set_index('id', inplace=True)\n",
    "\n",
    "# Print the first 20 rows of the result DataFrame\n",
    "print(df_result.head(20))\n",
    "\n",
    "\n",
    "# Saving submission\n",
    "df_result.to_csv('00_preds.csv')\n",
    "df_result"
   ]
  },
  {
   "cell_type": "code",
   "execution_count": null,
   "metadata": {},
   "outputs": [],
   "source": []
  }
 ],
 "metadata": {
  "kernelspec": {
   "display_name": "Python 3 (ipykernel)",
   "language": "python",
   "name": "python3"
  },
  "language_info": {
   "codemirror_mode": {
    "name": "ipython",
    "version": 3
   },
   "file_extension": ".py",
   "mimetype": "text/x-python",
   "name": "python",
   "nbconvert_exporter": "python",
   "pygments_lexer": "ipython3",
   "version": "3.8.16"
  }
 },
 "nbformat": 4,
 "nbformat_minor": 5
}
